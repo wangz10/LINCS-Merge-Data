{
 "cells": [
  {
   "cell_type": "code",
   "execution_count": 1,
   "metadata": {
    "collapsed": true
   },
   "outputs": [],
   "source": [
    "'''\n",
    "# Merge the follow data packages into consolidated data packages based on assay type.\n",
    "\n",
    "+ KINOMEscan kinase small molecule binding assay\n",
    "+ KiNativ kinase small molecule binding assay\n",
    "+ Fluorescence imaging apoptosis assay\n",
    "+ Fluorescence imaging cell growth inhibition assay\n",
    "\n",
    "'''\n",
    "__author__ = 'Zichen Wang (zichen.wang@mssm.edu)'\n",
    "\n",
    "import sys\n",
    "reload(sys)  \n",
    "sys.setdefaultencoding('utf8')\n",
    "# print sys.getdefaultencoding()\n",
    "\n",
    "import os, tarfile, codecs\n",
    "from collections import OrderedDict\n",
    "import pandas as pd\n",
    "\n",
    "def read_manifest(fn):\n",
    "\t# Read Manifest file\n",
    "\tdf = pd.read_csv(fn, sep='\\t')\n",
    "\tdf.set_index('datasetid', inplace=True)\n",
    "\tdf['metadata_contents'] = df['metadata_contents'].map(lambda x: x.split('\\t'))\n",
    "\treturn df\n",
    "\n",
    "def read_data(fn):\n",
    "\tif fn.endswith('txt'):\n",
    "\t\tsep = '\\t'\n",
    "\telif fn.endswith('.csv'):\n",
    "\t\tsep = ','\n",
    "\tdf = pd.read_csv(fn, sep=sep) \n",
    "\treturn df\n",
    "\n",
    "def read_readme(fn):\n",
    "\tout = OrderedDict()\n",
    "\twith codecs.open(fn, 'r', 'utf-8') as f:\n",
    "\t\tis_section = False\n",
    "\t\tsubsection = ''\n",
    "\t\tlines = [line for line in f]\n",
    "\t\tsection_idx = set()\n",
    "\t\tfor i, line in enumerate(lines):\n",
    "\n",
    "\t\t\tif i not in section_idx:\n",
    "\t\t\t\tif '####' in line:\n",
    "\t\t\t\t\tis_section = not is_section\n",
    "\t\t\t\t\tif is_section:\n",
    "\t\t\t\t\t\tsection = lines[i+1].strip()\n",
    "\t\t\t\t\t\tout[section] = OrderedDict()\n",
    "\t\t\t\t\t\tout[section][subsection] = ''\n",
    "\t\t\t\t\t\tsection_idx.add(i+1)\n",
    "\t\t\t\t\t\t# print section\n",
    "\n",
    "\t\t\t\telif line.strip().endswith(':'):\n",
    "\t\t\t\t\tsubsection = line.strip()\n",
    "\t\t\t\t\t# print subsection\n",
    "\t\t\t\t\tout[section][subsection] = ''\n",
    "\t\t\t\telse:\n",
    "\t\t\t\t\tout[section][subsection] += line\n",
    "\t# print out['Dataset Information']['Dataset Contents:']\n",
    "\treturn out\n",
    "\n",
    "def write_readme(d, fn):\n",
    "\twith open(fn, 'w') as out:\n",
    "\t\tfor section in d:\n",
    "\t\t\tout.write('#' * 64 + '\\n')\n",
    "\t\t\tout.write(section + '\\n')\n",
    "\t\t\tout.write('#' * 64 + '\\n')\n",
    "\t\t\tout.write('\\n')\n",
    "\t\t\tfor subsection in d[section]:\n",
    "\t\t\t\tout.write(subsection + '\\n')\n",
    "\t\t\t\tout.write(d[section][subsection])\n",
    "\treturn\n",
    "\n",
    "def merge_readme(meta1, meta2):\n",
    "\tmeta = OrderedDict()\n",
    "\tfor section in meta1.keys():\n",
    "\t\tif meta1[section] == meta2[section]:\n",
    "\t\t\tmeta[section] = meta1[section]\n",
    "\t\telse:\n",
    "\t\t\tmeta[section] = OrderedDict()\n",
    "\t\t\tfor subsection in meta1[section].keys():\n",
    "\t\t\t\ttry:\n",
    "\t\t\t\t\tif meta1[section][subsection] == meta2[section][subsection]:\n",
    "\t\t\t\t\t\tmeta[section][subsection] = meta1[section][subsection]\n",
    "\t\t\t\t\telse:\n",
    "\t\t\t\t\t\tmeta[section][subsection] = ''\n",
    "\t\t\t\texcept KeyError:\n",
    "\t\t\t\t\tpass\n",
    "\treturn meta\n",
    "\n",
    "def extract_tgz(fn):\n",
    "\t# To extract a .tar.gz\n",
    "\tdirname = fn.split('.')[0]\n",
    "\ttf = tarfile.open(fn, 'r')\n",
    "\ttf.extractall()\n",
    "\treturn os.listdir(dirname)\n"
   ]
  },
  {
   "cell_type": "code",
   "execution_count": 2,
   "metadata": {
    "collapsed": true
   },
   "outputs": [],
   "source": [
    "def _merge(manifest_fn, dataset_ids_to_exclude=[]):\n",
    "\tmanifest = read_manifest(manifest_fn)\n",
    "\t## drop unwanted rows in manifest\n",
    "\tmanifest = manifest.drop(dataset_ids_to_exclude, axis=0)\n",
    "\n",
    "\t# print manifest.head()\n",
    "\n",
    "\t# Get unique metadata filenames\n",
    "\tunique_metadata_fns = set(reduce(lambda x,y: x+y, manifest['metadata_contents']))\n",
    "\n",
    "\tmerged_metadata = dict(zip(unique_metadata_fns, \n",
    "\t\t[pd.DataFrame()]*len(unique_metadata_fns))) # to collect merged metadata dfs\n",
    "\n",
    "\tmerged_data_df = pd.DataFrame() # to collect merged data\n",
    "\tmerged_readme = OrderedDict()\n",
    "\n",
    "\tfor dataset_id in manifest.index:\n",
    "\t\ttgz_fn = '%s.tar.gz' % dataset_id \n",
    "\t\tfilenames = extract_tgz(tgz_fn)\n",
    "\t\t# Read and merge metadata\n",
    "\t\tmetadata_fns = manifest.ix[dataset_id]['metadata_contents']\n",
    "\t\t# print metadata_fns\n",
    "\t\tfor metadata_fn in metadata_fns:\n",
    "\t\t\tmeta_df = read_data('%s/%s' % (dataset_id, metadata_fn))\n",
    "\t\t\tmerged_metadata[metadata_fn] = merged_metadata[metadata_fn].append(meta_df)\n",
    "\n",
    "\t\t# Get dataset filename\n",
    "\t\tdataset_fn = filter(lambda x: x not in unique_metadata_fns, filenames)\n",
    "\t\tdataset_fn = filter(lambda x: 'readme' not in x.lower(), dataset_fn)\n",
    "\t\t# print dataset_fn\n",
    "\t\tprint dataset_id # , filenames\n",
    "\n",
    "\t\tassert len(dataset_fn) == 1\n",
    "\t\tdataset_fn = dataset_fn[0]\n",
    "\t\t# Read and merge data\n",
    "\t\tdf = read_data('%s/%s' % (dataset_id, dataset_fn))\n",
    "\t\tprint df.columns\n",
    "\t\tmerged_data_df = merged_data_df.append(df)\n",
    "\t\t# print 'Merged %s' % dataset_fn \n",
    "\t\t# print df.shape, merged_data_df.shape\n",
    "\n",
    "\t\t# Read ReadMe.txt\n",
    "\t\ttry:\n",
    "\t\t\treadme = read_readme('%s/ReadMe.txt' % dataset_id)\n",
    "\t\texcept UnicodeDecodeError:\n",
    "\t\t\tpass\n",
    "\t\telse:\n",
    "\t\t\tif len(merged_readme) == 0:\n",
    "\t\t\t\tmerged_readme = readme\n",
    "\t\t\telse:\n",
    "\t\t\t\tmerged_readme = merge_readme(merged_readme, readme)\n",
    "\n",
    "\t# Drop duplicated rows\n",
    "\t# print merged_data_df.shape\n",
    "\tmerged_data_df = merged_data_df.drop_duplicates()\n",
    "\tprint merged_data_df.shape\n",
    "\treturn merged_data_df"
   ]
  },
  {
   "cell_type": "code",
   "execution_count": 3,
   "metadata": {
    "collapsed": false
   },
   "outputs": [
    {
     "data": {
      "text/html": [
       "<div style=\"max-height:1000px;max-width:1500px;overflow:auto;\">\n",
       "<table border=\"1\" class=\"dataframe\">\n",
       "  <thead>\n",
       "    <tr style=\"text-align: right;\">\n",
       "      <th></th>\n",
       "      <th>datarecordID</th>\n",
       "      <th>hmsDatasetID</th>\n",
       "      <th>smCenterCompoundID</th>\n",
       "      <th>smSalt</th>\n",
       "      <th>smCenterSampleID</th>\n",
       "      <th>smLincsID</th>\n",
       "      <th>smName</th>\n",
       "      <th>clName</th>\n",
       "      <th>clCenterSpecificID</th>\n",
       "      <th>ppName</th>\n",
       "      <th>ppLincsID</th>\n",
       "      <th>recordedPlate</th>\n",
       "      <th>recordedWell</th>\n",
       "      <th>controlType</th>\n",
       "      <th>datapointName</th>\n",
       "      <th>datapointUnit</th>\n",
       "      <th>datapointValue</th>\n",
       "    </tr>\n",
       "  </thead>\n",
       "  <tbody>\n",
       "    <tr>\n",
       "      <th>0</th>\n",
       "      <td>71929</td>\n",
       "      <td>20095</td>\n",
       "      <td>10080</td>\n",
       "      <td>101</td>\n",
       "      <td>1</td>\n",
       "      <td>LSM-1080</td>\n",
       "      <td>Torin2</td>\n",
       "      <td>HeLa</td>\n",
       "      <td>50061</td>\n",
       "      <td>ABL,ARG</td>\n",
       "      <td>200633</td>\n",
       "      <td>NaN</td>\n",
       "      <td>NaN</td>\n",
       "      <td>NaN</td>\n",
       "      <td>sequence</td>\n",
       "      <td>NaN</td>\n",
       "      <td>LMTGDTYTAHAGAkFPIK</td>\n",
       "    </tr>\n",
       "    <tr>\n",
       "      <th>1</th>\n",
       "      <td>71929</td>\n",
       "      <td>20095</td>\n",
       "      <td>10080</td>\n",
       "      <td>101</td>\n",
       "      <td>1</td>\n",
       "      <td>LSM-1080</td>\n",
       "      <td>Torin2</td>\n",
       "      <td>HeLa</td>\n",
       "      <td>50061</td>\n",
       "      <td>ABL,ARG</td>\n",
       "      <td>200633</td>\n",
       "      <td>NaN</td>\n",
       "      <td>NaN</td>\n",
       "      <td>NaN</td>\n",
       "      <td>labelingSite</td>\n",
       "      <td>NaN</td>\n",
       "      <td>Activation Loop</td>\n",
       "    </tr>\n",
       "    <tr>\n",
       "      <th>2</th>\n",
       "      <td>71929</td>\n",
       "      <td>20095</td>\n",
       "      <td>10080</td>\n",
       "      <td>101</td>\n",
       "      <td>1</td>\n",
       "      <td>LSM-1080</td>\n",
       "      <td>Torin2</td>\n",
       "      <td>HeLa</td>\n",
       "      <td>50061</td>\n",
       "      <td>ABL,ARG</td>\n",
       "      <td>200633</td>\n",
       "      <td>NaN</td>\n",
       "      <td>NaN</td>\n",
       "      <td>NaN</td>\n",
       "      <td>percentInhibition</td>\n",
       "      <td>NaN</td>\n",
       "      <td>2.7</td>\n",
       "    </tr>\n",
       "    <tr>\n",
       "      <th>3</th>\n",
       "      <td>71929</td>\n",
       "      <td>20095</td>\n",
       "      <td>10080</td>\n",
       "      <td>101</td>\n",
       "      <td>1</td>\n",
       "      <td>LSM-1080</td>\n",
       "      <td>Torin2</td>\n",
       "      <td>HeLa</td>\n",
       "      <td>50061</td>\n",
       "      <td>ABL,ARG</td>\n",
       "      <td>200633</td>\n",
       "      <td>NaN</td>\n",
       "      <td>NaN</td>\n",
       "      <td>NaN</td>\n",
       "      <td>assayCompoundConcentration</td>\n",
       "      <td>NaN</td>\n",
       "      <td>10</td>\n",
       "    </tr>\n",
       "    <tr>\n",
       "      <th>4</th>\n",
       "      <td>71929</td>\n",
       "      <td>20095</td>\n",
       "      <td>10080</td>\n",
       "      <td>101</td>\n",
       "      <td>1</td>\n",
       "      <td>LSM-1080</td>\n",
       "      <td>Torin2</td>\n",
       "      <td>HeLa</td>\n",
       "      <td>50061</td>\n",
       "      <td>ABL,ARG</td>\n",
       "      <td>200633</td>\n",
       "      <td>NaN</td>\n",
       "      <td>NaN</td>\n",
       "      <td>NaN</td>\n",
       "      <td>concUnit</td>\n",
       "      <td>NaN</td>\n",
       "      <td>uM</td>\n",
       "    </tr>\n",
       "  </tbody>\n",
       "</table>\n",
       "</div>"
      ],
      "text/plain": [
       "   datarecordID  hmsDatasetID  smCenterCompoundID  smSalt  smCenterSampleID  \\\n",
       "0         71929         20095               10080     101                 1   \n",
       "1         71929         20095               10080     101                 1   \n",
       "2         71929         20095               10080     101                 1   \n",
       "3         71929         20095               10080     101                 1   \n",
       "4         71929         20095               10080     101                 1   \n",
       "\n",
       "  smLincsID  smName clName  clCenterSpecificID   ppName  ppLincsID  \\\n",
       "0  LSM-1080  Torin2   HeLa               50061  ABL,ARG     200633   \n",
       "1  LSM-1080  Torin2   HeLa               50061  ABL,ARG     200633   \n",
       "2  LSM-1080  Torin2   HeLa               50061  ABL,ARG     200633   \n",
       "3  LSM-1080  Torin2   HeLa               50061  ABL,ARG     200633   \n",
       "4  LSM-1080  Torin2   HeLa               50061  ABL,ARG     200633   \n",
       "\n",
       "   recordedPlate  recordedWell  controlType               datapointName  \\\n",
       "0            NaN           NaN          NaN                    sequence   \n",
       "1            NaN           NaN          NaN                labelingSite   \n",
       "2            NaN           NaN          NaN           percentInhibition   \n",
       "3            NaN           NaN          NaN  assayCompoundConcentration   \n",
       "4            NaN           NaN          NaN                    concUnit   \n",
       "\n",
       "  datapointUnit      datapointValue  \n",
       "0           NaN  LMTGDTYTAHAGAkFPIK  \n",
       "1           NaN     Activation Loop  \n",
       "2           NaN                 2.7  \n",
       "3           NaN                  10  \n",
       "4           NaN                  uM  "
      ]
     },
     "execution_count": 3,
     "metadata": {},
     "output_type": "execute_result"
    }
   ],
   "source": [
    "# KiNativ\n",
    "merged_data_df = _merge('Manifest_1458120819559.txt', ['LDS-1258', 'LDS-1259', 'LDS-1260'])\n",
    "merged_data_df.head()"
   ]
  },
  {
   "cell_type": "code",
   "execution_count": 4,
   "metadata": {
    "collapsed": false
   },
   "outputs": [
    {
     "data": {
      "text/plain": [
       "(26404, 17)"
      ]
     },
     "execution_count": 4,
     "metadata": {},
     "output_type": "execute_result"
    }
   ],
   "source": [
    "merged_data_df.shape"
   ]
  },
  {
   "cell_type": "code",
   "execution_count": 5,
   "metadata": {
    "collapsed": false
   },
   "outputs": [
    {
     "data": {
      "text/plain": [
       "datarecordID          26404\n",
       "hmsDatasetID          26404\n",
       "smCenterCompoundID    26404\n",
       "smSalt                26404\n",
       "smCenterSampleID      26404\n",
       "smLincsID             26404\n",
       "smName                26404\n",
       "clName                26404\n",
       "clCenterSpecificID    26404\n",
       "ppName                26404\n",
       "ppLincsID             26404\n",
       "recordedPlate             0\n",
       "recordedWell              0\n",
       "controlType               0\n",
       "datapointName         26404\n",
       "datapointUnit          1401\n",
       "datapointValue        26307\n",
       "dtype: int64"
      ]
     },
     "execution_count": 5,
     "metadata": {},
     "output_type": "execute_result"
    }
   ],
   "source": [
    "merged_data_df.count()"
   ]
  },
  {
   "cell_type": "code",
   "execution_count": 6,
   "metadata": {
    "collapsed": false
   },
   "outputs": [
    {
     "data": {
      "text/plain": [
       "(26404, 14)"
      ]
     },
     "execution_count": 6,
     "metadata": {},
     "output_type": "execute_result"
    }
   ],
   "source": [
    "# drop columns with 0 data\n",
    "cols_to_drop = merged_data_df.columns[merged_data_df.count() == 0]\n",
    "merged_data_df = merged_data_df.drop(cols_to_drop, axis=1)\n",
    "merged_data_df.shape"
   ]
  },
  {
   "cell_type": "code",
   "execution_count": 7,
   "metadata": {
    "collapsed": false
   },
   "outputs": [
    {
     "data": {
      "text/html": [
       "<div style=\"max-height:1000px;max-width:1500px;overflow:auto;\">\n",
       "<table border=\"1\" class=\"dataframe\">\n",
       "  <thead>\n",
       "    <tr style=\"text-align: right;\">\n",
       "      <th></th>\n",
       "      <th>hmsDatasetID</th>\n",
       "      <th>smCenterCompoundID</th>\n",
       "      <th>smSalt</th>\n",
       "      <th>smCenterSampleID</th>\n",
       "      <th>smLincsID</th>\n",
       "      <th>smName</th>\n",
       "      <th>clName</th>\n",
       "      <th>clCenterSpecificID</th>\n",
       "      <th>ppName</th>\n",
       "      <th>ppLincsID</th>\n",
       "      <th>datapointUnit</th>\n",
       "    </tr>\n",
       "    <tr>\n",
       "      <th>datarecordID</th>\n",
       "      <th></th>\n",
       "      <th></th>\n",
       "      <th></th>\n",
       "      <th></th>\n",
       "      <th></th>\n",
       "      <th></th>\n",
       "      <th></th>\n",
       "      <th></th>\n",
       "      <th></th>\n",
       "      <th></th>\n",
       "      <th></th>\n",
       "    </tr>\n",
       "  </thead>\n",
       "  <tbody>\n",
       "    <tr>\n",
       "      <th>71929</th>\n",
       "      <td>20095</td>\n",
       "      <td>10080</td>\n",
       "      <td>101</td>\n",
       "      <td>1</td>\n",
       "      <td>LSM-1080</td>\n",
       "      <td>Torin2</td>\n",
       "      <td>HeLa</td>\n",
       "      <td>50061</td>\n",
       "      <td>ABL,ARG</td>\n",
       "      <td>200633</td>\n",
       "      <td>NaN</td>\n",
       "    </tr>\n",
       "    <tr>\n",
       "      <th>71930</th>\n",
       "      <td>20095</td>\n",
       "      <td>10080</td>\n",
       "      <td>101</td>\n",
       "      <td>1</td>\n",
       "      <td>LSM-1080</td>\n",
       "      <td>Torin2</td>\n",
       "      <td>HeLa</td>\n",
       "      <td>50061</td>\n",
       "      <td>ABL,ARG</td>\n",
       "      <td>200634</td>\n",
       "      <td>NaN</td>\n",
       "    </tr>\n",
       "    <tr>\n",
       "      <th>71931</th>\n",
       "      <td>20095</td>\n",
       "      <td>10080</td>\n",
       "      <td>101</td>\n",
       "      <td>1</td>\n",
       "      <td>LSM-1080</td>\n",
       "      <td>Torin2</td>\n",
       "      <td>HeLa</td>\n",
       "      <td>50061</td>\n",
       "      <td>ACK</td>\n",
       "      <td>200635</td>\n",
       "      <td>NaN</td>\n",
       "    </tr>\n",
       "    <tr>\n",
       "      <th>71932</th>\n",
       "      <td>20095</td>\n",
       "      <td>10080</td>\n",
       "      <td>101</td>\n",
       "      <td>1</td>\n",
       "      <td>LSM-1080</td>\n",
       "      <td>Torin2</td>\n",
       "      <td>HeLa</td>\n",
       "      <td>50061</td>\n",
       "      <td>AGK</td>\n",
       "      <td>200636</td>\n",
       "      <td>NaN</td>\n",
       "    </tr>\n",
       "    <tr>\n",
       "      <th>71933</th>\n",
       "      <td>20095</td>\n",
       "      <td>10080</td>\n",
       "      <td>101</td>\n",
       "      <td>1</td>\n",
       "      <td>LSM-1080</td>\n",
       "      <td>Torin2</td>\n",
       "      <td>HeLa</td>\n",
       "      <td>50061</td>\n",
       "      <td>AMPKa1,AMPKa2</td>\n",
       "      <td>200639</td>\n",
       "      <td>NaN</td>\n",
       "    </tr>\n",
       "  </tbody>\n",
       "</table>\n",
       "</div>"
      ],
      "text/plain": [
       "              hmsDatasetID  smCenterCompoundID  smSalt  smCenterSampleID  \\\n",
       "datarecordID                                                               \n",
       "71929                20095               10080     101                 1   \n",
       "71930                20095               10080     101                 1   \n",
       "71931                20095               10080     101                 1   \n",
       "71932                20095               10080     101                 1   \n",
       "71933                20095               10080     101                 1   \n",
       "\n",
       "             smLincsID  smName clName  clCenterSpecificID         ppName  \\\n",
       "datarecordID                                                               \n",
       "71929         LSM-1080  Torin2   HeLa               50061        ABL,ARG   \n",
       "71930         LSM-1080  Torin2   HeLa               50061        ABL,ARG   \n",
       "71931         LSM-1080  Torin2   HeLa               50061            ACK   \n",
       "71932         LSM-1080  Torin2   HeLa               50061            AGK   \n",
       "71933         LSM-1080  Torin2   HeLa               50061  AMPKa1,AMPKa2   \n",
       "\n",
       "              ppLincsID datapointUnit  \n",
       "datarecordID                           \n",
       "71929            200633           NaN  \n",
       "71930            200634           NaN  \n",
       "71931            200635           NaN  \n",
       "71932            200636           NaN  \n",
       "71933            200639           NaN  "
      ]
     },
     "execution_count": 7,
     "metadata": {},
     "output_type": "execute_result"
    }
   ],
   "source": [
    "# groupby datarecordID and get the first rows in each group except for datapointValue and datapointName\n",
    "grouped_df_meta = merged_data_df.groupby('datarecordID').head(1)\\\n",
    "    .drop(['datapointName', 'datapointValue'],axis=1)\\\n",
    "    .set_index('datarecordID')\n",
    "grouped_df_meta.head()"
   ]
  },
  {
   "cell_type": "code",
   "execution_count": 8,
   "metadata": {
    "collapsed": false
   },
   "outputs": [
    {
     "data": {
      "text/plain": [
       "(5561, 11)"
      ]
     },
     "execution_count": 8,
     "metadata": {},
     "output_type": "execute_result"
    }
   ],
   "source": [
    "grouped_df_meta.shape"
   ]
  },
  {
   "cell_type": "code",
   "execution_count": 9,
   "metadata": {
    "collapsed": false
   },
   "outputs": [
    {
     "data": {
      "text/html": [
       "<div style=\"max-height:1000px;max-width:1500px;overflow:auto;\">\n",
       "<table border=\"1\" class=\"dataframe\">\n",
       "  <thead>\n",
       "    <tr style=\"text-align: right;\">\n",
       "      <th></th>\n",
       "      <th>IC50</th>\n",
       "      <th>assayCompoundConcentration</th>\n",
       "      <th>concUnit</th>\n",
       "      <th>labelingSite</th>\n",
       "      <th>percentInhibition</th>\n",
       "      <th>sequence</th>\n",
       "    </tr>\n",
       "    <tr>\n",
       "      <th>datarecordID</th>\n",
       "      <th></th>\n",
       "      <th></th>\n",
       "      <th></th>\n",
       "      <th></th>\n",
       "      <th></th>\n",
       "      <th></th>\n",
       "    </tr>\n",
       "  </thead>\n",
       "  <tbody>\n",
       "    <tr>\n",
       "      <th>70118</th>\n",
       "      <td>&gt;10</td>\n",
       "      <td>NaN</td>\n",
       "      <td>uM</td>\n",
       "      <td>Activation Loop</td>\n",
       "      <td>NaN</td>\n",
       "      <td>LMTGDTYTAHAGAkFPIK</td>\n",
       "    </tr>\n",
       "    <tr>\n",
       "      <th>70119</th>\n",
       "      <td>&gt;10</td>\n",
       "      <td>NaN</td>\n",
       "      <td>uM</td>\n",
       "      <td>LYS1</td>\n",
       "      <td>NaN</td>\n",
       "      <td>YSLTVAVkTLKEDTMEVEEFLK</td>\n",
       "    </tr>\n",
       "    <tr>\n",
       "      <th>70120</th>\n",
       "      <td>&gt;10</td>\n",
       "      <td>NaN</td>\n",
       "      <td>uM</td>\n",
       "      <td>LYS1</td>\n",
       "      <td>NaN</td>\n",
       "      <td>TVSVAVKCLkPDVLSQPEAMDDFIR</td>\n",
       "    </tr>\n",
       "    <tr>\n",
       "      <th>70121</th>\n",
       "      <td>&gt;10</td>\n",
       "      <td>NaN</td>\n",
       "      <td>uM</td>\n",
       "      <td>ATP</td>\n",
       "      <td>NaN</td>\n",
       "      <td>ATVFLNPAACkGK</td>\n",
       "    </tr>\n",
       "    <tr>\n",
       "      <th>70122</th>\n",
       "      <td>&gt;10</td>\n",
       "      <td>NaN</td>\n",
       "      <td>uM</td>\n",
       "      <td>ATP Loop</td>\n",
       "      <td>NaN</td>\n",
       "      <td>GTFGkVILVK</td>\n",
       "    </tr>\n",
       "  </tbody>\n",
       "</table>\n",
       "</div>"
      ],
      "text/plain": [
       "             IC50 assayCompoundConcentration concUnit     labelingSite  \\\n",
       "datarecordID                                                             \n",
       "70118         >10                        NaN       uM  Activation Loop   \n",
       "70119         >10                        NaN       uM             LYS1   \n",
       "70120         >10                        NaN       uM             LYS1   \n",
       "70121         >10                        NaN       uM              ATP   \n",
       "70122         >10                        NaN       uM         ATP Loop   \n",
       "\n",
       "             percentInhibition                   sequence  \n",
       "datarecordID                                               \n",
       "70118                      NaN         LMTGDTYTAHAGAkFPIK  \n",
       "70119                      NaN     YSLTVAVkTLKEDTMEVEEFLK  \n",
       "70120                      NaN  TVSVAVKCLkPDVLSQPEAMDDFIR  \n",
       "70121                      NaN              ATVFLNPAACkGK  \n",
       "70122                      NaN                 GTFGkVILVK  "
      ]
     },
     "execution_count": 9,
     "metadata": {},
     "output_type": "execute_result"
    }
   ],
   "source": [
    "# pivot_table to get datapointName on the columns\n",
    "grouped_df = pd.pivot_table(merged_data_df[['datarecordID', 'datapointName', 'datapointValue']],\n",
    "                            values='datapointValue', \n",
    "                            index=['datarecordID'], \n",
    "                            columns=['datapointName'],\n",
    "                            aggfunc=lambda x: x,\n",
    "                            dropna=False)\n",
    "\n",
    "grouped_df.head()"
   ]
  },
  {
   "cell_type": "code",
   "execution_count": 10,
   "metadata": {
    "collapsed": false
   },
   "outputs": [
    {
     "data": {
      "text/plain": [
       "(5561, 6)"
      ]
     },
     "execution_count": 10,
     "metadata": {},
     "output_type": "execute_result"
    }
   ],
   "source": [
    "grouped_df.shape"
   ]
  },
  {
   "cell_type": "code",
   "execution_count": 11,
   "metadata": {
    "collapsed": false
   },
   "outputs": [
    {
     "data": {
      "text/plain": [
       "IC50                          1394\n",
       "assayCompoundConcentration    4160\n",
       "concUnit                      5561\n",
       "labelingSite                  5543\n",
       "percentInhibition             4088\n",
       "sequence                      5561\n",
       "dtype: int64"
      ]
     },
     "execution_count": 11,
     "metadata": {},
     "output_type": "execute_result"
    }
   ],
   "source": [
    "grouped_df.count()"
   ]
  },
  {
   "cell_type": "code",
   "execution_count": 12,
   "metadata": {
    "collapsed": false
   },
   "outputs": [
    {
     "data": {
      "text/plain": [
       "(5561, 17)"
      ]
     },
     "execution_count": 12,
     "metadata": {},
     "output_type": "execute_result"
    }
   ],
   "source": [
    "# join grouped_df and grouped_df_meta on datarecordID\n",
    "grouped_df = grouped_df.merge(grouped_df_meta, left_index=True, right_index=True, how='inner')\n",
    "# export this \n",
    "grouped_df.to_csv('KiNativ_kinase_small_molecule_binding_assay/HMS_LINCS-KiNativ_kinase_small_molecule_binding_assay.csv')\n",
    "grouped_df.shape"
   ]
  },
  {
   "cell_type": "code",
   "execution_count": 13,
   "metadata": {
    "collapsed": false
   },
   "outputs": [],
   "source": [
    "## create experimentID to uniquely identify each experiment\n",
    "grouped_df['experimentID'] = grouped_df[[\n",
    "        'hmsDatasetID',\n",
    "        'clCenterSpecificID',        \n",
    "        'smCenterCompoundID',        \n",
    "        'assayCompoundConcentration']].apply(lambda x: '-'.join(map(str, x)), axis=1)\n"
   ]
  },
  {
   "cell_type": "code",
   "execution_count": 14,
   "metadata": {
    "collapsed": false
   },
   "outputs": [
    {
     "data": {
      "text/plain": [
       "IC50                          object\n",
       "assayCompoundConcentration    object\n",
       "concUnit                      object\n",
       "labelingSite                  object\n",
       "percentInhibition             object\n",
       "sequence                      object\n",
       "hmsDatasetID                   int64\n",
       "smCenterCompoundID             int64\n",
       "smSalt                         int64\n",
       "smCenterSampleID               int64\n",
       "smLincsID                     object\n",
       "smName                        object\n",
       "clName                        object\n",
       "clCenterSpecificID             int64\n",
       "ppName                        object\n",
       "ppLincsID                      int64\n",
       "datapointUnit                 object\n",
       "experimentID                  object\n",
       "dtype: object"
      ]
     },
     "execution_count": 14,
     "metadata": {},
     "output_type": "execute_result"
    }
   ],
   "source": [
    "# check dtypes\n",
    "grouped_df.dtypes"
   ]
  },
  {
   "cell_type": "code",
   "execution_count": 15,
   "metadata": {
    "collapsed": false
   },
   "outputs": [
    {
     "data": {
      "text/html": [
       "<div style=\"max-height:1000px;max-width:1500px;overflow:auto;\">\n",
       "<table border=\"1\" class=\"dataframe\">\n",
       "  <thead>\n",
       "    <tr style=\"text-align: right;\">\n",
       "      <th></th>\n",
       "      <th>labelingSite</th>\n",
       "      <th>sequence</th>\n",
       "      <th>ppName</th>\n",
       "      <th>ppLincsID</th>\n",
       "    </tr>\n",
       "  </thead>\n",
       "  <tbody>\n",
       "    <tr>\n",
       "      <th>0</th>\n",
       "      <td>Activation Loop</td>\n",
       "      <td>LMTGDTYTAHAGAkFPIK</td>\n",
       "      <td>ABL,ARG</td>\n",
       "      <td>200633</td>\n",
       "    </tr>\n",
       "    <tr>\n",
       "      <th>1</th>\n",
       "      <td>Lys1</td>\n",
       "      <td>YSLTVAVkTLKEDTMEVEEFLK</td>\n",
       "      <td>ABL,ARG</td>\n",
       "      <td>200634</td>\n",
       "    </tr>\n",
       "    <tr>\n",
       "      <th>2</th>\n",
       "      <td>Lys1</td>\n",
       "      <td>TVSVAVkCLKPDVLSQPEAMDDFIR</td>\n",
       "      <td>ACK</td>\n",
       "      <td>200635</td>\n",
       "    </tr>\n",
       "    <tr>\n",
       "      <th>3</th>\n",
       "      <td>ATP</td>\n",
       "      <td>ATVFLNPAACkGK</td>\n",
       "      <td>AGK</td>\n",
       "      <td>200636</td>\n",
       "    </tr>\n",
       "    <tr>\n",
       "      <th>4</th>\n",
       "      <td>Lys2</td>\n",
       "      <td>DLkPENVLLDAHMNAK</td>\n",
       "      <td>AMPKa1,AMPKa2</td>\n",
       "      <td>200639</td>\n",
       "    </tr>\n",
       "  </tbody>\n",
       "</table>\n",
       "</div>"
      ],
      "text/plain": [
       "      labelingSite                   sequence         ppName  ppLincsID\n",
       "0  Activation Loop         LMTGDTYTAHAGAkFPIK        ABL,ARG     200633\n",
       "1             Lys1     YSLTVAVkTLKEDTMEVEEFLK        ABL,ARG     200634\n",
       "2             Lys1  TVSVAVkCLKPDVLSQPEAMDDFIR            ACK     200635\n",
       "3              ATP              ATVFLNPAACkGK            AGK     200636\n",
       "4             Lys2           DLkPENVLLDAHMNAK  AMPKa1,AMPKa2     200639"
      ]
     },
     "execution_count": 15,
     "metadata": {},
     "output_type": "execute_result"
    }
   ],
   "source": [
    "# separate row meta (kinases) and column meta (experiments)\n",
    "row_meta_df = grouped_df.reset_index()[['labelingSite', 'sequence', 'ppName', 'ppLincsID']].drop_duplicates()\n",
    "col_meta_df = grouped_df.reset_index()[['experimentID', 'assayCompoundConcentration', 'concUnit', \n",
    "                          'hmsDatasetID', 'smCenterCompoundID', 'smSalt',\n",
    "                         'smCenterSampleID', 'smLincsID', 'smName',\n",
    "                         'clName', 'clCenterSpecificID']].drop_duplicates().set_index('experimentID').sort_index()\n",
    "row_meta_df.head()"
   ]
  },
  {
   "cell_type": "code",
   "execution_count": 16,
   "metadata": {
    "collapsed": false
   },
   "outputs": [
    {
     "data": {
      "text/plain": [
       "(1045, 4)"
      ]
     },
     "execution_count": 16,
     "metadata": {},
     "output_type": "execute_result"
    }
   ],
   "source": [
    "row_meta_df.shape"
   ]
  },
  {
   "cell_type": "code",
   "execution_count": 17,
   "metadata": {
    "collapsed": false
   },
   "outputs": [
    {
     "data": {
      "text/plain": [
       "labelingSite     20\n",
       "sequence        748\n",
       "ppName          325\n",
       "ppLincsID       494\n",
       "dtype: int64"
      ]
     },
     "execution_count": 17,
     "metadata": {},
     "output_type": "execute_result"
    }
   ],
   "source": [
    "row_meta_df.apply(lambda x: x.nunique())"
   ]
  },
  {
   "cell_type": "code",
   "execution_count": 18,
   "metadata": {
    "collapsed": false
   },
   "outputs": [
    {
     "data": {
      "text/plain": [
       "array(['Activation Loop', 'Lys1', 'ATP', 'Lys2', 'ATP Loop',\n",
       "       'Protein Kinase Domain', 'Other', nan, 'LYS1', 'LYS2',\n",
       "       'Kinase Domain', 'ACT', 'K1', 'LIP', 'K2', 'LIP (PI3K/PI4K)',\n",
       "       'LIP (PI5K)', 'nonKD (autoinhibition domain)', 'KD',\n",
       "       'Other (MAPKAP2/3 active site in p38a complex)', 'nonKD'], dtype=object)"
      ]
     },
     "execution_count": 18,
     "metadata": {},
     "output_type": "execute_result"
    }
   ],
   "source": [
    "row_meta_df['labelingSite'].unique()"
   ]
  },
  {
   "cell_type": "code",
   "execution_count": 19,
   "metadata": {
    "collapsed": false
   },
   "outputs": [
    {
     "data": {
      "text/plain": [
       "sequence\n",
       "AACLLDGVPVALKK                         K1,Lys1\n",
       "AACLLDGVPVALkK                       Lys1,LYS1\n",
       "AAGIGKDFKENPNLR                            nan\n",
       "AAGIGkDFKENPNLR                      Other,ATP\n",
       "ADNTLVAVkSCR                              Lys1\n",
       "AIHKETGQIVAIkQVPVESDLQEIIK           Lys1,LYS1\n",
       "AIQFLHQDSPSLIHGDIKSSNVLLDER            K2,Lys2\n",
       "AIQFLHQDSPSLIHGDIkSSNVLLDER          Lys2,LYS2\n",
       "AKDLPTFKDNDFLNEGQK              LIP (PI5K),ATP\n",
       "AKDLPTFkDNDFLNEGQK                         ATP\n",
       "AKELPTLKDNDFINEGQK              LIP (PI5K),ATP\n",
       "AKELPTLkDNDFINEGQK                         ATP\n",
       "ALYATKTLR                              K1,Lys1\n",
       "ALYATkTLR                            Lys1,LYS1\n",
       "APVAIKVFK                              K1,Lys1\n",
       "APVAIkVFK                            Lys1,LYS1\n",
       "AQNKETSVLAAAkVIDTK                   Lys1,LYS1\n",
       "AQTHGkWPVKWYAPECINYYK          Activation Loop\n",
       "ARDTVTSELAAVkIVK                          Lys1\n",
       "ATFSFCVSPLLVFVNSKSGDNQGVK                  ATP\n",
       "Name: labelingSite, dtype: object"
      ]
     },
     "execution_count": 19,
     "metadata": {},
     "output_type": "execute_result"
    }
   ],
   "source": [
    "## clean up row_meta_df by combining different labelingSite namings\n",
    "row_meta_df.groupby(['sequence'])['labelingSite'].agg(lambda x:','.join(map(str,x))).head(20)"
   ]
  },
  {
   "cell_type": "code",
   "execution_count": 20,
   "metadata": {
    "collapsed": false
   },
   "outputs": [
    {
     "data": {
      "text/plain": [
       "(494, 1)"
      ]
     },
     "execution_count": 20,
     "metadata": {},
     "output_type": "execute_result"
    }
   ],
   "source": [
    "## Assume ppLincsID, drop the sequence and labelingSite\n",
    "# row_meta_df = row_meta_df[['ppLincsID','ppName']].drop_duplicates().set_index('ppLincsID')\n",
    "row_meta_df = grouped_df.reset_index()[['ppName', 'ppLincsID']].drop_duplicates().set_index('ppLincsID').sort_index()\n",
    "row_meta_df.shape"
   ]
  },
  {
   "cell_type": "code",
   "execution_count": 21,
   "metadata": {
    "collapsed": false
   },
   "outputs": [
    {
     "data": {
      "text/html": [
       "<div style=\"max-height:1000px;max-width:1500px;overflow:auto;\">\n",
       "<table border=\"1\" class=\"dataframe\">\n",
       "  <thead>\n",
       "    <tr style=\"text-align: right;\">\n",
       "      <th></th>\n",
       "      <th>ppName</th>\n",
       "    </tr>\n",
       "    <tr>\n",
       "      <th>ppLincsID</th>\n",
       "      <th></th>\n",
       "    </tr>\n",
       "  </thead>\n",
       "  <tbody>\n",
       "    <tr>\n",
       "      <th>200633</th>\n",
       "      <td>ABL,ARG</td>\n",
       "    </tr>\n",
       "    <tr>\n",
       "      <th>200634</th>\n",
       "      <td>ABL,ARG</td>\n",
       "    </tr>\n",
       "    <tr>\n",
       "      <th>200635</th>\n",
       "      <td>ACK</td>\n",
       "    </tr>\n",
       "    <tr>\n",
       "      <th>200636</th>\n",
       "      <td>AGK</td>\n",
       "    </tr>\n",
       "    <tr>\n",
       "      <th>200637</th>\n",
       "      <td>AKT1</td>\n",
       "    </tr>\n",
       "  </tbody>\n",
       "</table>\n",
       "</div>"
      ],
      "text/plain": [
       "            ppName\n",
       "ppLincsID         \n",
       "200633     ABL,ARG\n",
       "200634     ABL,ARG\n",
       "200635         ACK\n",
       "200636         AGK\n",
       "200637        AKT1"
      ]
     },
     "execution_count": 21,
     "metadata": {},
     "output_type": "execute_result"
    }
   ],
   "source": [
    "row_meta_df.head()"
   ]
  },
  {
   "cell_type": "code",
   "execution_count": 22,
   "metadata": {
    "collapsed": false
   },
   "outputs": [
    {
     "data": {
      "text/plain": [
       "assayCompoundConcentration     5\n",
       "concUnit                       1\n",
       "hmsDatasetID                  24\n",
       "smCenterCompoundID            24\n",
       "smSalt                         2\n",
       "smCenterSampleID               1\n",
       "smLincsID                     24\n",
       "smName                        24\n",
       "clName                         7\n",
       "clCenterSpecificID             7\n",
       "dtype: int64"
      ]
     },
     "execution_count": 22,
     "metadata": {},
     "output_type": "execute_result"
    }
   ],
   "source": [
    "col_meta_df.apply(lambda x: x.nunique())"
   ]
  },
  {
   "cell_type": "code",
   "execution_count": 23,
   "metadata": {
    "collapsed": false
   },
   "outputs": [
    {
     "data": {
      "text/plain": [
       "(34, 10)"
      ]
     },
     "execution_count": 23,
     "metadata": {},
     "output_type": "execute_result"
    }
   ],
   "source": [
    "col_meta_df.shape"
   ]
  },
  {
   "cell_type": "code",
   "execution_count": 24,
   "metadata": {
    "collapsed": false
   },
   "outputs": [
    {
     "data": {
      "text/html": [
       "<div style=\"max-height:1000px;max-width:1500px;overflow:auto;\">\n",
       "<table border=\"1\" class=\"dataframe\">\n",
       "  <thead>\n",
       "    <tr style=\"text-align: right;\">\n",
       "      <th></th>\n",
       "      <th>assayCompoundConcentration</th>\n",
       "      <th>concUnit</th>\n",
       "      <th>hmsDatasetID</th>\n",
       "      <th>smCenterCompoundID</th>\n",
       "      <th>smSalt</th>\n",
       "      <th>smCenterSampleID</th>\n",
       "      <th>smLincsID</th>\n",
       "      <th>smName</th>\n",
       "      <th>clName</th>\n",
       "      <th>clCenterSpecificID</th>\n",
       "    </tr>\n",
       "    <tr>\n",
       "      <th>experimentID</th>\n",
       "      <th></th>\n",
       "      <th></th>\n",
       "      <th></th>\n",
       "      <th></th>\n",
       "      <th></th>\n",
       "      <th></th>\n",
       "      <th></th>\n",
       "      <th></th>\n",
       "      <th></th>\n",
       "      <th></th>\n",
       "    </tr>\n",
       "  </thead>\n",
       "  <tbody>\n",
       "    <tr>\n",
       "      <th>20087-50060-10008-nan</th>\n",
       "      <td>NaN</td>\n",
       "      <td>uM</td>\n",
       "      <td>20087</td>\n",
       "      <td>10008</td>\n",
       "      <td>101</td>\n",
       "      <td>1</td>\n",
       "      <td>LSM-1008</td>\n",
       "      <td>Sorafenib</td>\n",
       "      <td>A-375</td>\n",
       "      <td>50060</td>\n",
       "    </tr>\n",
       "    <tr>\n",
       "      <th>20088-50060-10029-nan</th>\n",
       "      <td>NaN</td>\n",
       "      <td>uM</td>\n",
       "      <td>20088</td>\n",
       "      <td>10029</td>\n",
       "      <td>101</td>\n",
       "      <td>1</td>\n",
       "      <td>LSM-1029</td>\n",
       "      <td>GW-5074</td>\n",
       "      <td>A-375</td>\n",
       "      <td>50060</td>\n",
       "    </tr>\n",
       "    <tr>\n",
       "      <th>20089-50060-10046-nan</th>\n",
       "      <td>NaN</td>\n",
       "      <td>uM</td>\n",
       "      <td>20089</td>\n",
       "      <td>10046</td>\n",
       "      <td>101</td>\n",
       "      <td>1</td>\n",
       "      <td>LSM-1046</td>\n",
       "      <td>SB590885</td>\n",
       "      <td>A-375</td>\n",
       "      <td>50060</td>\n",
       "    </tr>\n",
       "    <tr>\n",
       "      <th>20090-50060-10049-nan</th>\n",
       "      <td>NaN</td>\n",
       "      <td>uM</td>\n",
       "      <td>20090</td>\n",
       "      <td>10049</td>\n",
       "      <td>101</td>\n",
       "      <td>1</td>\n",
       "      <td>LSM-1049</td>\n",
       "      <td>PLX-4720</td>\n",
       "      <td>A-375</td>\n",
       "      <td>50060</td>\n",
       "    </tr>\n",
       "    <tr>\n",
       "      <th>20091-50060-10050-nan</th>\n",
       "      <td>NaN</td>\n",
       "      <td>uM</td>\n",
       "      <td>20091</td>\n",
       "      <td>10050</td>\n",
       "      <td>101</td>\n",
       "      <td>1</td>\n",
       "      <td>LSM-1050</td>\n",
       "      <td>AZ-628</td>\n",
       "      <td>A-375</td>\n",
       "      <td>50060</td>\n",
       "    </tr>\n",
       "  </tbody>\n",
       "</table>\n",
       "</div>"
      ],
      "text/plain": [
       "                      assayCompoundConcentration concUnit  hmsDatasetID  \\\n",
       "experimentID                                                              \n",
       "20087-50060-10008-nan                        NaN       uM         20087   \n",
       "20088-50060-10029-nan                        NaN       uM         20088   \n",
       "20089-50060-10046-nan                        NaN       uM         20089   \n",
       "20090-50060-10049-nan                        NaN       uM         20090   \n",
       "20091-50060-10050-nan                        NaN       uM         20091   \n",
       "\n",
       "                       smCenterCompoundID  smSalt  smCenterSampleID smLincsID  \\\n",
       "experimentID                                                                    \n",
       "20087-50060-10008-nan               10008     101                 1  LSM-1008   \n",
       "20088-50060-10029-nan               10029     101                 1  LSM-1029   \n",
       "20089-50060-10046-nan               10046     101                 1  LSM-1046   \n",
       "20090-50060-10049-nan               10049     101                 1  LSM-1049   \n",
       "20091-50060-10050-nan               10050     101                 1  LSM-1050   \n",
       "\n",
       "                          smName clName  clCenterSpecificID  \n",
       "experimentID                                                 \n",
       "20087-50060-10008-nan  Sorafenib  A-375               50060  \n",
       "20088-50060-10029-nan    GW-5074  A-375               50060  \n",
       "20089-50060-10046-nan   SB590885  A-375               50060  \n",
       "20090-50060-10049-nan   PLX-4720  A-375               50060  \n",
       "20091-50060-10050-nan     AZ-628  A-375               50060  "
      ]
     },
     "execution_count": 24,
     "metadata": {},
     "output_type": "execute_result"
    }
   ],
   "source": [
    "col_meta_df.head()\n"
   ]
  },
  {
   "cell_type": "code",
   "execution_count": 25,
   "metadata": {
    "collapsed": false
   },
   "outputs": [
    {
     "data": {
      "text/html": [
       "<div style=\"max-height:1000px;max-width:1500px;overflow:auto;\">\n",
       "<table border=\"1\" class=\"dataframe\">\n",
       "  <thead>\n",
       "    <tr style=\"text-align: right;\">\n",
       "      <th></th>\n",
       "      <th>20087-50060-10008-nan</th>\n",
       "      <th>20088-50060-10029-nan</th>\n",
       "      <th>20089-50060-10046-nan</th>\n",
       "      <th>20090-50060-10049-nan</th>\n",
       "      <th>20091-50060-10050-nan</th>\n",
       "      <th>20092-50060-10068-nan</th>\n",
       "      <th>20093-50060-10017-10</th>\n",
       "      <th>20094-50061-10079-10</th>\n",
       "      <th>20095-50061-10080-10</th>\n",
       "      <th>20097-50061-10086-10</th>\n",
       "      <th>...</th>\n",
       "      <th>20104-50454-10200-0.5</th>\n",
       "      <th>20104-50454-10200-5</th>\n",
       "      <th>20105-50061-10201-10</th>\n",
       "      <th>20106-50061-10070-10</th>\n",
       "      <th>20106-50454-10070-10</th>\n",
       "      <th>20204-51097-10075-1</th>\n",
       "      <th>20206-50811-10129-1</th>\n",
       "      <th>20207-51099-10188-1</th>\n",
       "      <th>20209-50335-10337-1</th>\n",
       "      <th>20210-50811-10351-1</th>\n",
       "    </tr>\n",
       "    <tr>\n",
       "      <th>ppLincsID</th>\n",
       "      <th></th>\n",
       "      <th></th>\n",
       "      <th></th>\n",
       "      <th></th>\n",
       "      <th></th>\n",
       "      <th></th>\n",
       "      <th></th>\n",
       "      <th></th>\n",
       "      <th></th>\n",
       "      <th></th>\n",
       "      <th></th>\n",
       "      <th></th>\n",
       "      <th></th>\n",
       "      <th></th>\n",
       "      <th></th>\n",
       "      <th></th>\n",
       "      <th></th>\n",
       "      <th></th>\n",
       "      <th></th>\n",
       "      <th></th>\n",
       "      <th></th>\n",
       "    </tr>\n",
       "  </thead>\n",
       "  <tbody>\n",
       "    <tr>\n",
       "      <th>200633</th>\n",
       "      <td>NaN</td>\n",
       "      <td>NaN</td>\n",
       "      <td>NaN</td>\n",
       "      <td>NaN</td>\n",
       "      <td>NaN</td>\n",
       "      <td>NaN</td>\n",
       "      <td>96.2</td>\n",
       "      <td>-1.9</td>\n",
       "      <td>2.7</td>\n",
       "      <td>-2.8</td>\n",
       "      <td>...</td>\n",
       "      <td>39.9</td>\n",
       "      <td>80.6</td>\n",
       "      <td>-2.6</td>\n",
       "      <td>-31.1</td>\n",
       "      <td>NaN</td>\n",
       "      <td>25.73794561</td>\n",
       "      <td>-12.2</td>\n",
       "      <td>-62.8</td>\n",
       "      <td>95.0</td>\n",
       "      <td>&gt;90</td>\n",
       "    </tr>\n",
       "    <tr>\n",
       "      <th>200634</th>\n",
       "      <td>NaN</td>\n",
       "      <td>NaN</td>\n",
       "      <td>NaN</td>\n",
       "      <td>NaN</td>\n",
       "      <td>NaN</td>\n",
       "      <td>NaN</td>\n",
       "      <td>NaN</td>\n",
       "      <td>-3.0</td>\n",
       "      <td>-4.2</td>\n",
       "      <td>NaN</td>\n",
       "      <td>...</td>\n",
       "      <td>NaN</td>\n",
       "      <td>NaN</td>\n",
       "      <td>7.8</td>\n",
       "      <td>NaN</td>\n",
       "      <td>NaN</td>\n",
       "      <td>NaN</td>\n",
       "      <td>NaN</td>\n",
       "      <td>-49.5</td>\n",
       "      <td>NaN</td>\n",
       "      <td>NaN</td>\n",
       "    </tr>\n",
       "    <tr>\n",
       "      <th>200635</th>\n",
       "      <td>NaN</td>\n",
       "      <td>NaN</td>\n",
       "      <td>NaN</td>\n",
       "      <td>NaN</td>\n",
       "      <td>NaN</td>\n",
       "      <td>NaN</td>\n",
       "      <td>NaN</td>\n",
       "      <td>44.6</td>\n",
       "      <td>4.1</td>\n",
       "      <td>69.0</td>\n",
       "      <td>...</td>\n",
       "      <td>0.3</td>\n",
       "      <td>25.4</td>\n",
       "      <td>94.0</td>\n",
       "      <td>-1.0</td>\n",
       "      <td>NaN</td>\n",
       "      <td>NaN</td>\n",
       "      <td>-39.5</td>\n",
       "      <td>-6.4</td>\n",
       "      <td>72.3</td>\n",
       "      <td>-33.4</td>\n",
       "    </tr>\n",
       "    <tr>\n",
       "      <th>200636</th>\n",
       "      <td>NaN</td>\n",
       "      <td>NaN</td>\n",
       "      <td>NaN</td>\n",
       "      <td>NaN</td>\n",
       "      <td>NaN</td>\n",
       "      <td>NaN</td>\n",
       "      <td>~NI</td>\n",
       "      <td>-0.8</td>\n",
       "      <td>20.1</td>\n",
       "      <td>NaN</td>\n",
       "      <td>...</td>\n",
       "      <td>2.2</td>\n",
       "      <td>-6.6</td>\n",
       "      <td>-2.5</td>\n",
       "      <td>NaN</td>\n",
       "      <td>-1.8</td>\n",
       "      <td>NaN</td>\n",
       "      <td>NaN</td>\n",
       "      <td>-23.6</td>\n",
       "      <td>NaN</td>\n",
       "      <td>NaN</td>\n",
       "    </tr>\n",
       "    <tr>\n",
       "      <th>200637</th>\n",
       "      <td>NaN</td>\n",
       "      <td>NaN</td>\n",
       "      <td>NaN</td>\n",
       "      <td>NaN</td>\n",
       "      <td>NaN</td>\n",
       "      <td>NaN</td>\n",
       "      <td>3.8</td>\n",
       "      <td>NaN</td>\n",
       "      <td>NaN</td>\n",
       "      <td>NaN</td>\n",
       "      <td>...</td>\n",
       "      <td>NaN</td>\n",
       "      <td>NaN</td>\n",
       "      <td>NaN</td>\n",
       "      <td>NaN</td>\n",
       "      <td>NaN</td>\n",
       "      <td>NaN</td>\n",
       "      <td>NaN</td>\n",
       "      <td>NaN</td>\n",
       "      <td>NaN</td>\n",
       "      <td>NaN</td>\n",
       "    </tr>\n",
       "  </tbody>\n",
       "</table>\n",
       "<p>5 rows × 34 columns</p>\n",
       "</div>"
      ],
      "text/plain": [
       "          20087-50060-10008-nan 20088-50060-10029-nan 20089-50060-10046-nan  \\\n",
       "ppLincsID                                                                     \n",
       "200633                      NaN                   NaN                   NaN   \n",
       "200634                      NaN                   NaN                   NaN   \n",
       "200635                      NaN                   NaN                   NaN   \n",
       "200636                      NaN                   NaN                   NaN   \n",
       "200637                      NaN                   NaN                   NaN   \n",
       "\n",
       "          20090-50060-10049-nan 20091-50060-10050-nan 20092-50060-10068-nan  \\\n",
       "ppLincsID                                                                     \n",
       "200633                      NaN                   NaN                   NaN   \n",
       "200634                      NaN                   NaN                   NaN   \n",
       "200635                      NaN                   NaN                   NaN   \n",
       "200636                      NaN                   NaN                   NaN   \n",
       "200637                      NaN                   NaN                   NaN   \n",
       "\n",
       "          20093-50060-10017-10 20094-50061-10079-10 20095-50061-10080-10  \\\n",
       "ppLincsID                                                                  \n",
       "200633                    96.2                 -1.9                  2.7   \n",
       "200634                     NaN                 -3.0                 -4.2   \n",
       "200635                     NaN                 44.6                  4.1   \n",
       "200636                     ~NI                 -0.8                 20.1   \n",
       "200637                     3.8                  NaN                  NaN   \n",
       "\n",
       "          20097-50061-10086-10         ...         20104-50454-10200-0.5  \\\n",
       "ppLincsID                              ...                                 \n",
       "200633                    -2.8         ...                          39.9   \n",
       "200634                     NaN         ...                           NaN   \n",
       "200635                    69.0         ...                           0.3   \n",
       "200636                     NaN         ...                           2.2   \n",
       "200637                     NaN         ...                           NaN   \n",
       "\n",
       "          20104-50454-10200-5 20105-50061-10201-10 20106-50061-10070-10  \\\n",
       "ppLincsID                                                                 \n",
       "200633                   80.6                 -2.6                -31.1   \n",
       "200634                    NaN                  7.8                  NaN   \n",
       "200635                   25.4                 94.0                 -1.0   \n",
       "200636                   -6.6                 -2.5                  NaN   \n",
       "200637                    NaN                  NaN                  NaN   \n",
       "\n",
       "          20106-50454-10070-10 20204-51097-10075-1 20206-50811-10129-1  \\\n",
       "ppLincsID                                                                \n",
       "200633                     NaN         25.73794561               -12.2   \n",
       "200634                     NaN                 NaN                 NaN   \n",
       "200635                     NaN                 NaN               -39.5   \n",
       "200636                    -1.8                 NaN                 NaN   \n",
       "200637                     NaN                 NaN                 NaN   \n",
       "\n",
       "          20207-51099-10188-1 20209-50335-10337-1 20210-50811-10351-1  \n",
       "ppLincsID                                                              \n",
       "200633                  -62.8                95.0                 >90  \n",
       "200634                  -49.5                 NaN                 NaN  \n",
       "200635                   -6.4                72.3               -33.4  \n",
       "200636                  -23.6                 NaN                 NaN  \n",
       "200637                    NaN                 NaN                 NaN  \n",
       "\n",
       "[5 rows x 34 columns]"
      ]
     },
     "execution_count": 25,
     "metadata": {},
     "output_type": "execute_result"
    }
   ],
   "source": [
    "# pivot_table to make a matrix of percentInhibition\n",
    "value_matrix = pd.pivot_table(grouped_df.reset_index()[['percentInhibition', 'ppLincsID', 'experimentID']].drop_duplicates(),\n",
    "                            values='percentInhibition', \n",
    "                            columns='experimentID',\n",
    "                            index='ppLincsID', \n",
    "                            aggfunc=lambda x: x,\n",
    "                            dropna=False)\n",
    "\n",
    "value_matrix.head()"
   ]
  },
  {
   "cell_type": "code",
   "execution_count": 26,
   "metadata": {
    "collapsed": false
   },
   "outputs": [
    {
     "data": {
      "text/plain": [
       "(494, 34)"
      ]
     },
     "execution_count": 26,
     "metadata": {},
     "output_type": "execute_result"
    }
   ],
   "source": [
    "value_matrix.shape"
   ]
  },
  {
   "cell_type": "code",
   "execution_count": 27,
   "metadata": {
    "collapsed": false
   },
   "outputs": [
    {
     "data": {
      "text/plain": [
       "4088"
      ]
     },
     "execution_count": 27,
     "metadata": {},
     "output_type": "execute_result"
    }
   ],
   "source": [
    "grouped_df['percentInhibition'].count()"
   ]
  },
  {
   "cell_type": "code",
   "execution_count": 28,
   "metadata": {
    "collapsed": false
   },
   "outputs": [
    {
     "data": {
      "text/plain": [
       "4085"
      ]
     },
     "execution_count": 28,
     "metadata": {},
     "output_type": "execute_result"
    }
   ],
   "source": [
    "value_matrix.count().sum()"
   ]
  },
  {
   "cell_type": "code",
   "execution_count": 29,
   "metadata": {
    "collapsed": false
   },
   "outputs": [],
   "source": [
    "## make gct object\n",
    "sys.path.append('/Users/zichen/Documents/GitHub/l1ktools/python')\n",
    "import cmap.io.gct as gct\n",
    "g = gct.GCT()\n",
    "print value_matrix.shape\n",
    "print row_meta_df.shape\n",
    "print col_meta_df.shape\n",
    "g.build_from_DataFrame(value_matrix, rdesc=row_meta_df, cdesc=col_meta_df)\n"
   ]
  },
  {
   "cell_type": "code",
   "execution_count": 30,
   "metadata": {
    "collapsed": false
   },
   "outputs": [],
   "source": [
    "## export to gct and gctx\n",
    "g.write('KiNativ_kinase_small_molecule_binding_assay/HMS_LINCS-KiNativ_kinase_small_molecule_binding_assay'\n",
    "        , mode='gct')\n",
    "# g.write('HMS_LINCS-KiNativ_kinase_small_molecule_binding_assay.', mode='gctx')"
   ]
  }
 ],
 "metadata": {
  "kernelspec": {
   "display_name": "Python 2",
   "language": "python",
   "name": "python2"
  },
  "language_info": {
   "codemirror_mode": {
    "name": "ipython",
    "version": 2
   },
   "file_extension": ".py",
   "mimetype": "text/x-python",
   "name": "python",
   "nbconvert_exporter": "python",
   "pygments_lexer": "ipython2",
   "version": "2.7.6"
  }
 },
 "nbformat": 4,
 "nbformat_minor": 0
}
