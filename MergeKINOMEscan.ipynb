{
 "cells": [
  {
   "cell_type": "code",
   "execution_count": 1,
   "metadata": {
    "collapsed": true
   },
   "outputs": [],
   "source": [
    "'''\n",
    "# Merge the follow data packages into consolidated data packages based on assay type.\n",
    "\n",
    "+ KINOMEscan kinase small molecule binding assay\n",
    "+ KiNativ kinase small molecule binding assay\n",
    "+ Fluorescence imaging apoptosis assay\n",
    "+ Fluorescence imaging cell growth inhibition assay\n",
    "\n",
    "'''\n",
    "__author__ = 'Zichen Wang (zichen.wang@mssm.edu)'\n",
    "\n",
    "import sys\n",
    "reload(sys)  \n",
    "sys.setdefaultencoding('utf8')\n",
    "# print sys.getdefaultencoding()\n",
    "\n",
    "import os, tarfile, codecs\n",
    "from collections import OrderedDict\n",
    "import pandas as pd\n",
    "\n",
    "def read_manifest(fn):\n",
    "\t# Read Manifest file\n",
    "\tdf = pd.read_csv(fn, sep='\\t')\n",
    "\tdf.set_index('datasetid', inplace=True)\n",
    "\tdf['metadata_contents'] = df['metadata_contents'].map(lambda x: x.split('\\t'))\n",
    "\treturn df\n",
    "\n",
    "def read_data(fn):\n",
    "\tif fn.endswith('txt'):\n",
    "\t\tsep = '\\t'\n",
    "\telif fn.endswith('.csv'):\n",
    "\t\tsep = ','\n",
    "\tdf = pd.read_csv(fn, sep=sep) \n",
    "\treturn df\n",
    "\n",
    "def read_readme(fn):\n",
    "\tout = OrderedDict()\n",
    "\twith codecs.open(fn, 'r', 'utf-8') as f:\n",
    "\t\tis_section = False\n",
    "\t\tsubsection = ''\n",
    "\t\tlines = [line for line in f]\n",
    "\t\tsection_idx = set()\n",
    "\t\tfor i, line in enumerate(lines):\n",
    "\n",
    "\t\t\tif i not in section_idx:\n",
    "\t\t\t\tif '####' in line:\n",
    "\t\t\t\t\tis_section = not is_section\n",
    "\t\t\t\t\tif is_section:\n",
    "\t\t\t\t\t\tsection = lines[i+1].strip()\n",
    "\t\t\t\t\t\tout[section] = OrderedDict()\n",
    "\t\t\t\t\t\tout[section][subsection] = ''\n",
    "\t\t\t\t\t\tsection_idx.add(i+1)\n",
    "\t\t\t\t\t\t# print section\n",
    "\n",
    "\t\t\t\telif line.strip().endswith(':'):\n",
    "\t\t\t\t\tsubsection = line.strip()\n",
    "\t\t\t\t\t# print subsection\n",
    "\t\t\t\t\tout[section][subsection] = ''\n",
    "\t\t\t\telse:\n",
    "\t\t\t\t\tout[section][subsection] += line\n",
    "\t# print out['Dataset Information']['Dataset Contents:']\n",
    "\treturn out\n",
    "\n",
    "def write_readme(d, fn):\n",
    "\twith open(fn, 'w') as out:\n",
    "\t\tfor section in d:\n",
    "\t\t\tout.write('#' * 64 + '\\n')\n",
    "\t\t\tout.write(section + '\\n')\n",
    "\t\t\tout.write('#' * 64 + '\\n')\n",
    "\t\t\tout.write('\\n')\n",
    "\t\t\tfor subsection in d[section]:\n",
    "\t\t\t\tout.write(subsection + '\\n')\n",
    "\t\t\t\tout.write(d[section][subsection])\n",
    "\treturn\n",
    "\n",
    "def merge_readme(meta1, meta2):\n",
    "\tmeta = OrderedDict()\n",
    "\tfor section in meta1.keys():\n",
    "\t\tif meta1[section] == meta2[section]:\n",
    "\t\t\tmeta[section] = meta1[section]\n",
    "\t\telse:\n",
    "\t\t\tmeta[section] = OrderedDict()\n",
    "\t\t\tfor subsection in meta1[section].keys():\n",
    "\t\t\t\ttry:\n",
    "\t\t\t\t\tif meta1[section][subsection] == meta2[section][subsection]:\n",
    "\t\t\t\t\t\tmeta[section][subsection] = meta1[section][subsection]\n",
    "\t\t\t\t\telse:\n",
    "\t\t\t\t\t\tmeta[section][subsection] = ''\n",
    "\t\t\t\texcept KeyError:\n",
    "\t\t\t\t\tpass\n",
    "\treturn meta\n",
    "\n",
    "def extract_tgz(fn):\n",
    "\t# To extract a .tar.gz\n",
    "\tdirname = fn.split('.')[0]\n",
    "\ttf = tarfile.open(fn, 'r')\n",
    "\ttf.extractall()\n",
    "\treturn os.listdir(dirname)\n"
   ]
  },
  {
   "cell_type": "code",
   "execution_count": 2,
   "metadata": {
    "collapsed": true
   },
   "outputs": [],
   "source": [
    "def _merge(manifest_fn, dataset_ids_to_exclude=[]):\n",
    "\tmanifest = read_manifest(manifest_fn)\n",
    "\t## drop unwanted rows in manifest\n",
    "\tmanifest = manifest.drop(dataset_ids_to_exclude, axis=0)\n",
    "\n",
    "\t# print manifest.head()\n",
    "\n",
    "\t# Get unique metadata filenames\n",
    "\tunique_metadata_fns = set(reduce(lambda x,y: x+y, manifest['metadata_contents']))\n",
    "\n",
    "\tmerged_metadata = dict(zip(unique_metadata_fns, \n",
    "\t\t[pd.DataFrame()]*len(unique_metadata_fns))) # to collect merged metadata dfs\n",
    "\n",
    "\tmerged_data_df = pd.DataFrame() # to collect merged data\n",
    "\tmerged_readme = OrderedDict()\n",
    "\n",
    "\tfor dataset_id in manifest.index:\n",
    "\t\ttgz_fn = '%s.tar.gz' % dataset_id \n",
    "\t\tfilenames = extract_tgz(tgz_fn)\n",
    "\t\t# Read and merge metadata\n",
    "\t\tmetadata_fns = manifest.ix[dataset_id]['metadata_contents']\n",
    "\t\t# print metadata_fns\n",
    "\t\tfor metadata_fn in metadata_fns:\n",
    "\t\t\tmeta_df = read_data('%s/%s' % (dataset_id, metadata_fn))\n",
    "\t\t\tmerged_metadata[metadata_fn] = merged_metadata[metadata_fn].append(meta_df)\n",
    "\n",
    "\t\t# Get dataset filename\n",
    "\t\tdataset_fn = filter(lambda x: x not in unique_metadata_fns, filenames)\n",
    "\t\tdataset_fn = filter(lambda x: 'readme' not in x.lower(), dataset_fn)\n",
    "\t\t# print dataset_fn\n",
    "\t\tprint dataset_id # , filenames\n",
    "\n",
    "\t\tassert len(dataset_fn) == 1\n",
    "\t\tdataset_fn = dataset_fn[0]\n",
    "\t\t# Read and merge data\n",
    "\t\tdf = read_data('%s/%s' % (dataset_id, dataset_fn))\n",
    "\t\tprint df.columns\n",
    "\t\tmerged_data_df = merged_data_df.append(df)\n",
    "\t\t# print 'Merged %s' % dataset_fn \n",
    "\t\t# print df.shape, merged_data_df.shape\n",
    "\n",
    "\t\t# Read ReadMe.txt\n",
    "\t\ttry:\n",
    "\t\t\treadme = read_readme('%s/ReadMe.txt' % dataset_id)\n",
    "\t\texcept UnicodeDecodeError:\n",
    "\t\t\tpass\n",
    "\t\telse:\n",
    "\t\t\tif len(merged_readme) == 0:\n",
    "\t\t\t\tmerged_readme = readme\n",
    "\t\t\telse:\n",
    "\t\t\t\tmerged_readme = merge_readme(merged_readme, readme)\n",
    "\n",
    "\t# Drop duplicated rows\n",
    "\t# print merged_data_df.shape\n",
    "\tmerged_data_df = merged_data_df.drop_duplicates()\n",
    "\tprint merged_data_df.shape\n",
    "\treturn merged_data_df"
   ]
  },
  {
   "cell_type": "code",
   "execution_count": 3,
   "metadata": {
    "collapsed": false
   },
   "outputs": [
    {
     "data": {
      "text/html": [
       "<div style=\"max-height:1000px;max-width:1500px;overflow:auto;\">\n",
       "<table border=\"1\" class=\"dataframe\">\n",
       "  <thead>\n",
       "    <tr style=\"text-align: right;\">\n",
       "      <th></th>\n",
       "      <th>datarecordID</th>\n",
       "      <th>hmsDatasetID</th>\n",
       "      <th>smCenterCompoundID</th>\n",
       "      <th>smSalt</th>\n",
       "      <th>smCenterSampleID</th>\n",
       "      <th>smLincsID</th>\n",
       "      <th>smName</th>\n",
       "      <th>clName</th>\n",
       "      <th>clCenterSpecificID</th>\n",
       "      <th>ppName</th>\n",
       "      <th>ppLincsID</th>\n",
       "      <th>recordedPlate</th>\n",
       "      <th>recordedWell</th>\n",
       "      <th>controlType</th>\n",
       "      <th>datapointName</th>\n",
       "      <th>datapointUnit</th>\n",
       "      <th>datapointValue</th>\n",
       "    </tr>\n",
       "  </thead>\n",
       "  <tbody>\n",
       "    <tr>\n",
       "      <th>0</th>\n",
       "      <td>50583</td>\n",
       "      <td>20040</td>\n",
       "      <td>10061</td>\n",
       "      <td>101</td>\n",
       "      <td>1</td>\n",
       "      <td>LSM-1061</td>\n",
       "      <td>NU7441</td>\n",
       "      <td>NaN</td>\n",
       "      <td>NaN</td>\n",
       "      <td>AAK1</td>\n",
       "      <td>200001</td>\n",
       "      <td>NaN</td>\n",
       "      <td>NaN</td>\n",
       "      <td>NaN</td>\n",
       "      <td>percentControl</td>\n",
       "      <td>NaN</td>\n",
       "      <td>87</td>\n",
       "    </tr>\n",
       "    <tr>\n",
       "      <th>1</th>\n",
       "      <td>50583</td>\n",
       "      <td>20040</td>\n",
       "      <td>10061</td>\n",
       "      <td>101</td>\n",
       "      <td>1</td>\n",
       "      <td>LSM-1061</td>\n",
       "      <td>NU7441</td>\n",
       "      <td>NaN</td>\n",
       "      <td>NaN</td>\n",
       "      <td>AAK1</td>\n",
       "      <td>200001</td>\n",
       "      <td>NaN</td>\n",
       "      <td>NaN</td>\n",
       "      <td>NaN</td>\n",
       "      <td>assayCompoundConcentration</td>\n",
       "      <td>NaN</td>\n",
       "      <td>10</td>\n",
       "    </tr>\n",
       "    <tr>\n",
       "      <th>2</th>\n",
       "      <td>50583</td>\n",
       "      <td>20040</td>\n",
       "      <td>10061</td>\n",
       "      <td>101</td>\n",
       "      <td>1</td>\n",
       "      <td>LSM-1061</td>\n",
       "      <td>NU7441</td>\n",
       "      <td>NaN</td>\n",
       "      <td>NaN</td>\n",
       "      <td>AAK1</td>\n",
       "      <td>200001</td>\n",
       "      <td>NaN</td>\n",
       "      <td>NaN</td>\n",
       "      <td>NaN</td>\n",
       "      <td>concUnit</td>\n",
       "      <td>NaN</td>\n",
       "      <td>uM</td>\n",
       "    </tr>\n",
       "    <tr>\n",
       "      <th>3</th>\n",
       "      <td>50584</td>\n",
       "      <td>20040</td>\n",
       "      <td>10061</td>\n",
       "      <td>101</td>\n",
       "      <td>1</td>\n",
       "      <td>LSM-1061</td>\n",
       "      <td>NU7441</td>\n",
       "      <td>NaN</td>\n",
       "      <td>NaN</td>\n",
       "      <td>ABL1(E255K)-phosphorylated</td>\n",
       "      <td>200004</td>\n",
       "      <td>NaN</td>\n",
       "      <td>NaN</td>\n",
       "      <td>NaN</td>\n",
       "      <td>percentControl</td>\n",
       "      <td>NaN</td>\n",
       "      <td>100</td>\n",
       "    </tr>\n",
       "    <tr>\n",
       "      <th>4</th>\n",
       "      <td>50584</td>\n",
       "      <td>20040</td>\n",
       "      <td>10061</td>\n",
       "      <td>101</td>\n",
       "      <td>1</td>\n",
       "      <td>LSM-1061</td>\n",
       "      <td>NU7441</td>\n",
       "      <td>NaN</td>\n",
       "      <td>NaN</td>\n",
       "      <td>ABL1(E255K)-phosphorylated</td>\n",
       "      <td>200004</td>\n",
       "      <td>NaN</td>\n",
       "      <td>NaN</td>\n",
       "      <td>NaN</td>\n",
       "      <td>assayCompoundConcentration</td>\n",
       "      <td>NaN</td>\n",
       "      <td>10</td>\n",
       "    </tr>\n",
       "    <tr>\n",
       "      <th>5</th>\n",
       "      <td>50584</td>\n",
       "      <td>20040</td>\n",
       "      <td>10061</td>\n",
       "      <td>101</td>\n",
       "      <td>1</td>\n",
       "      <td>LSM-1061</td>\n",
       "      <td>NU7441</td>\n",
       "      <td>NaN</td>\n",
       "      <td>NaN</td>\n",
       "      <td>ABL1(E255K)-phosphorylated</td>\n",
       "      <td>200004</td>\n",
       "      <td>NaN</td>\n",
       "      <td>NaN</td>\n",
       "      <td>NaN</td>\n",
       "      <td>concUnit</td>\n",
       "      <td>NaN</td>\n",
       "      <td>uM</td>\n",
       "    </tr>\n",
       "    <tr>\n",
       "      <th>6</th>\n",
       "      <td>50585</td>\n",
       "      <td>20040</td>\n",
       "      <td>10061</td>\n",
       "      <td>101</td>\n",
       "      <td>1</td>\n",
       "      <td>LSM-1061</td>\n",
       "      <td>NU7441</td>\n",
       "      <td>NaN</td>\n",
       "      <td>NaN</td>\n",
       "      <td>ABL1(F317I)-nonphosphorylated</td>\n",
       "      <td>200006</td>\n",
       "      <td>NaN</td>\n",
       "      <td>NaN</td>\n",
       "      <td>NaN</td>\n",
       "      <td>percentControl</td>\n",
       "      <td>NaN</td>\n",
       "      <td>100</td>\n",
       "    </tr>\n",
       "    <tr>\n",
       "      <th>7</th>\n",
       "      <td>50585</td>\n",
       "      <td>20040</td>\n",
       "      <td>10061</td>\n",
       "      <td>101</td>\n",
       "      <td>1</td>\n",
       "      <td>LSM-1061</td>\n",
       "      <td>NU7441</td>\n",
       "      <td>NaN</td>\n",
       "      <td>NaN</td>\n",
       "      <td>ABL1(F317I)-nonphosphorylated</td>\n",
       "      <td>200006</td>\n",
       "      <td>NaN</td>\n",
       "      <td>NaN</td>\n",
       "      <td>NaN</td>\n",
       "      <td>assayCompoundConcentration</td>\n",
       "      <td>NaN</td>\n",
       "      <td>10</td>\n",
       "    </tr>\n",
       "    <tr>\n",
       "      <th>8</th>\n",
       "      <td>50585</td>\n",
       "      <td>20040</td>\n",
       "      <td>10061</td>\n",
       "      <td>101</td>\n",
       "      <td>1</td>\n",
       "      <td>LSM-1061</td>\n",
       "      <td>NU7441</td>\n",
       "      <td>NaN</td>\n",
       "      <td>NaN</td>\n",
       "      <td>ABL1(F317I)-nonphosphorylated</td>\n",
       "      <td>200006</td>\n",
       "      <td>NaN</td>\n",
       "      <td>NaN</td>\n",
       "      <td>NaN</td>\n",
       "      <td>concUnit</td>\n",
       "      <td>NaN</td>\n",
       "      <td>uM</td>\n",
       "    </tr>\n",
       "    <tr>\n",
       "      <th>9</th>\n",
       "      <td>50586</td>\n",
       "      <td>20040</td>\n",
       "      <td>10061</td>\n",
       "      <td>101</td>\n",
       "      <td>1</td>\n",
       "      <td>LSM-1061</td>\n",
       "      <td>NU7441</td>\n",
       "      <td>NaN</td>\n",
       "      <td>NaN</td>\n",
       "      <td>ABL1(F317I)-phosphorylated</td>\n",
       "      <td>200007</td>\n",
       "      <td>NaN</td>\n",
       "      <td>NaN</td>\n",
       "      <td>NaN</td>\n",
       "      <td>percentControl</td>\n",
       "      <td>NaN</td>\n",
       "      <td>99</td>\n",
       "    </tr>\n",
       "  </tbody>\n",
       "</table>\n",
       "</div>"
      ],
      "text/plain": [
       "   datarecordID  hmsDatasetID  smCenterCompoundID  smSalt  smCenterSampleID  \\\n",
       "0         50583         20040               10061     101                 1   \n",
       "1         50583         20040               10061     101                 1   \n",
       "2         50583         20040               10061     101                 1   \n",
       "3         50584         20040               10061     101                 1   \n",
       "4         50584         20040               10061     101                 1   \n",
       "5         50584         20040               10061     101                 1   \n",
       "6         50585         20040               10061     101                 1   \n",
       "7         50585         20040               10061     101                 1   \n",
       "8         50585         20040               10061     101                 1   \n",
       "9         50586         20040               10061     101                 1   \n",
       "\n",
       "  smLincsID  smName  clName  clCenterSpecificID  \\\n",
       "0  LSM-1061  NU7441     NaN                 NaN   \n",
       "1  LSM-1061  NU7441     NaN                 NaN   \n",
       "2  LSM-1061  NU7441     NaN                 NaN   \n",
       "3  LSM-1061  NU7441     NaN                 NaN   \n",
       "4  LSM-1061  NU7441     NaN                 NaN   \n",
       "5  LSM-1061  NU7441     NaN                 NaN   \n",
       "6  LSM-1061  NU7441     NaN                 NaN   \n",
       "7  LSM-1061  NU7441     NaN                 NaN   \n",
       "8  LSM-1061  NU7441     NaN                 NaN   \n",
       "9  LSM-1061  NU7441     NaN                 NaN   \n",
       "\n",
       "                          ppName  ppLincsID  recordedPlate  recordedWell  \\\n",
       "0                           AAK1     200001            NaN           NaN   \n",
       "1                           AAK1     200001            NaN           NaN   \n",
       "2                           AAK1     200001            NaN           NaN   \n",
       "3     ABL1(E255K)-phosphorylated     200004            NaN           NaN   \n",
       "4     ABL1(E255K)-phosphorylated     200004            NaN           NaN   \n",
       "5     ABL1(E255K)-phosphorylated     200004            NaN           NaN   \n",
       "6  ABL1(F317I)-nonphosphorylated     200006            NaN           NaN   \n",
       "7  ABL1(F317I)-nonphosphorylated     200006            NaN           NaN   \n",
       "8  ABL1(F317I)-nonphosphorylated     200006            NaN           NaN   \n",
       "9     ABL1(F317I)-phosphorylated     200007            NaN           NaN   \n",
       "\n",
       "   controlType               datapointName  datapointUnit datapointValue  \n",
       "0          NaN              percentControl            NaN             87  \n",
       "1          NaN  assayCompoundConcentration            NaN             10  \n",
       "2          NaN                    concUnit            NaN             uM  \n",
       "3          NaN              percentControl            NaN            100  \n",
       "4          NaN  assayCompoundConcentration            NaN             10  \n",
       "5          NaN                    concUnit            NaN             uM  \n",
       "6          NaN              percentControl            NaN            100  \n",
       "7          NaN  assayCompoundConcentration            NaN             10  \n",
       "8          NaN                    concUnit            NaN             uM  \n",
       "9          NaN              percentControl            NaN             99  "
      ]
     },
     "execution_count": 3,
     "metadata": {},
     "output_type": "execute_result"
    }
   ],
   "source": [
    "# KINOMEscan\n",
    "merged_data_df = _merge('Manifest_1458120753563.txt')\n",
    "merged_data_df.head(10)"
   ]
  },
  {
   "cell_type": "code",
   "execution_count": 4,
   "metadata": {
    "collapsed": false
   },
   "outputs": [
    {
     "data": {
      "text/plain": [
       "(130113, 17)"
      ]
     },
     "execution_count": 4,
     "metadata": {},
     "output_type": "execute_result"
    }
   ],
   "source": [
    "merged_data_df.shape"
   ]
  },
  {
   "cell_type": "code",
   "execution_count": 5,
   "metadata": {
    "collapsed": false
   },
   "outputs": [
    {
     "data": {
      "text/plain": [
       "datarecordID          130113\n",
       "hmsDatasetID          130113\n",
       "smCenterCompoundID    130113\n",
       "smSalt                130113\n",
       "smCenterSampleID      130113\n",
       "smLincsID             130113\n",
       "smName                130113\n",
       "clName                     0\n",
       "clCenterSpecificID         0\n",
       "ppName                130113\n",
       "ppLincsID             130113\n",
       "recordedPlate              0\n",
       "recordedWell               0\n",
       "controlType                0\n",
       "datapointName         130113\n",
       "datapointUnit              0\n",
       "datapointValue        130113\n",
       "dtype: int64"
      ]
     },
     "execution_count": 5,
     "metadata": {},
     "output_type": "execute_result"
    }
   ],
   "source": [
    "merged_data_df.count()"
   ]
  },
  {
   "cell_type": "code",
   "execution_count": 6,
   "metadata": {
    "collapsed": false
   },
   "outputs": [
    {
     "data": {
      "text/plain": [
       "(130113, 11)"
      ]
     },
     "execution_count": 6,
     "metadata": {},
     "output_type": "execute_result"
    }
   ],
   "source": [
    "# drop columns with 0 data\n",
    "cols_to_drop = merged_data_df.columns[merged_data_df.count() == 0]\n",
    "merged_data_df = merged_data_df.drop(cols_to_drop, axis=1)\n",
    "merged_data_df.shape"
   ]
  },
  {
   "cell_type": "code",
   "execution_count": 7,
   "metadata": {
    "collapsed": false
   },
   "outputs": [
    {
     "data": {
      "text/html": [
       "<div style=\"max-height:1000px;max-width:1500px;overflow:auto;\">\n",
       "<table border=\"1\" class=\"dataframe\">\n",
       "  <thead>\n",
       "    <tr style=\"text-align: right;\">\n",
       "      <th></th>\n",
       "      <th>hmsDatasetID</th>\n",
       "      <th>smCenterCompoundID</th>\n",
       "      <th>smSalt</th>\n",
       "      <th>smCenterSampleID</th>\n",
       "      <th>smLincsID</th>\n",
       "      <th>smName</th>\n",
       "      <th>ppName</th>\n",
       "      <th>ppLincsID</th>\n",
       "    </tr>\n",
       "    <tr>\n",
       "      <th>datarecordID</th>\n",
       "      <th></th>\n",
       "      <th></th>\n",
       "      <th></th>\n",
       "      <th></th>\n",
       "      <th></th>\n",
       "      <th></th>\n",
       "      <th></th>\n",
       "      <th></th>\n",
       "    </tr>\n",
       "  </thead>\n",
       "  <tbody>\n",
       "    <tr>\n",
       "      <th>50583</th>\n",
       "      <td>20040</td>\n",
       "      <td>10061</td>\n",
       "      <td>101</td>\n",
       "      <td>1</td>\n",
       "      <td>LSM-1061</td>\n",
       "      <td>NU7441</td>\n",
       "      <td>AAK1</td>\n",
       "      <td>200001</td>\n",
       "    </tr>\n",
       "    <tr>\n",
       "      <th>50584</th>\n",
       "      <td>20040</td>\n",
       "      <td>10061</td>\n",
       "      <td>101</td>\n",
       "      <td>1</td>\n",
       "      <td>LSM-1061</td>\n",
       "      <td>NU7441</td>\n",
       "      <td>ABL1(E255K)-phosphorylated</td>\n",
       "      <td>200004</td>\n",
       "    </tr>\n",
       "    <tr>\n",
       "      <th>50585</th>\n",
       "      <td>20040</td>\n",
       "      <td>10061</td>\n",
       "      <td>101</td>\n",
       "      <td>1</td>\n",
       "      <td>LSM-1061</td>\n",
       "      <td>NU7441</td>\n",
       "      <td>ABL1(F317I)-nonphosphorylated</td>\n",
       "      <td>200006</td>\n",
       "    </tr>\n",
       "    <tr>\n",
       "      <th>50586</th>\n",
       "      <td>20040</td>\n",
       "      <td>10061</td>\n",
       "      <td>101</td>\n",
       "      <td>1</td>\n",
       "      <td>LSM-1061</td>\n",
       "      <td>NU7441</td>\n",
       "      <td>ABL1(F317I)-phosphorylated</td>\n",
       "      <td>200007</td>\n",
       "    </tr>\n",
       "    <tr>\n",
       "      <th>50587</th>\n",
       "      <td>20040</td>\n",
       "      <td>10061</td>\n",
       "      <td>101</td>\n",
       "      <td>1</td>\n",
       "      <td>LSM-1061</td>\n",
       "      <td>NU7441</td>\n",
       "      <td>ABL1(F317L)-nonphosphorylated</td>\n",
       "      <td>200009</td>\n",
       "    </tr>\n",
       "  </tbody>\n",
       "</table>\n",
       "</div>"
      ],
      "text/plain": [
       "              hmsDatasetID  smCenterCompoundID  smSalt  smCenterSampleID  \\\n",
       "datarecordID                                                               \n",
       "50583                20040               10061     101                 1   \n",
       "50584                20040               10061     101                 1   \n",
       "50585                20040               10061     101                 1   \n",
       "50586                20040               10061     101                 1   \n",
       "50587                20040               10061     101                 1   \n",
       "\n",
       "             smLincsID  smName                         ppName  ppLincsID  \n",
       "datarecordID                                                              \n",
       "50583         LSM-1061  NU7441                           AAK1     200001  \n",
       "50584         LSM-1061  NU7441     ABL1(E255K)-phosphorylated     200004  \n",
       "50585         LSM-1061  NU7441  ABL1(F317I)-nonphosphorylated     200006  \n",
       "50586         LSM-1061  NU7441     ABL1(F317I)-phosphorylated     200007  \n",
       "50587         LSM-1061  NU7441  ABL1(F317L)-nonphosphorylated     200009  "
      ]
     },
     "execution_count": 7,
     "metadata": {},
     "output_type": "execute_result"
    }
   ],
   "source": [
    "# groupby datarecordID and get the first rows in each group except for datapointValue and datapointName\n",
    "grouped_df_meta = merged_data_df.groupby('datarecordID').head(1)\\\n",
    "    .drop(['datapointName', 'datapointValue'],axis=1)\\\n",
    "    .set_index('datarecordID')\n",
    "grouped_df_meta.head()"
   ]
  },
  {
   "cell_type": "code",
   "execution_count": 8,
   "metadata": {
    "collapsed": false
   },
   "outputs": [
    {
     "data": {
      "text/plain": [
       "(43371, 8)"
      ]
     },
     "execution_count": 8,
     "metadata": {},
     "output_type": "execute_result"
    }
   ],
   "source": [
    "grouped_df_meta.shape"
   ]
  },
  {
   "cell_type": "code",
   "execution_count": 9,
   "metadata": {
    "collapsed": false
   },
   "outputs": [
    {
     "data": {
      "text/html": [
       "<div style=\"max-height:1000px;max-width:1500px;overflow:auto;\">\n",
       "<table border=\"1\" class=\"dataframe\">\n",
       "  <thead>\n",
       "    <tr style=\"text-align: right;\">\n",
       "      <th></th>\n",
       "      <th>assayCompoundConcentration</th>\n",
       "      <th>concUnit</th>\n",
       "      <th>percentControl</th>\n",
       "    </tr>\n",
       "    <tr>\n",
       "      <th>datarecordID</th>\n",
       "      <th></th>\n",
       "      <th></th>\n",
       "      <th></th>\n",
       "    </tr>\n",
       "  </thead>\n",
       "  <tbody>\n",
       "    <tr>\n",
       "      <th>41743</th>\n",
       "      <td>10</td>\n",
       "      <td>uM</td>\n",
       "      <td>100</td>\n",
       "    </tr>\n",
       "    <tr>\n",
       "      <th>41744</th>\n",
       "      <td>10</td>\n",
       "      <td>uM</td>\n",
       "      <td>47</td>\n",
       "    </tr>\n",
       "    <tr>\n",
       "      <th>41745</th>\n",
       "      <td>10</td>\n",
       "      <td>uM</td>\n",
       "      <td>5.6</td>\n",
       "    </tr>\n",
       "    <tr>\n",
       "      <th>41746</th>\n",
       "      <td>10</td>\n",
       "      <td>uM</td>\n",
       "      <td>41</td>\n",
       "    </tr>\n",
       "    <tr>\n",
       "      <th>41747</th>\n",
       "      <td>10</td>\n",
       "      <td>uM</td>\n",
       "      <td>5.4</td>\n",
       "    </tr>\n",
       "  </tbody>\n",
       "</table>\n",
       "</div>"
      ],
      "text/plain": [
       "             assayCompoundConcentration concUnit percentControl\n",
       "datarecordID                                                   \n",
       "41743                                10       uM            100\n",
       "41744                                10       uM             47\n",
       "41745                                10       uM            5.6\n",
       "41746                                10       uM             41\n",
       "41747                                10       uM            5.4"
      ]
     },
     "execution_count": 9,
     "metadata": {},
     "output_type": "execute_result"
    }
   ],
   "source": [
    "# pivot_table to get datapointName on the columns\n",
    "grouped_df = pd.pivot_table(merged_data_df[['datarecordID', 'datapointName', 'datapointValue']],\n",
    "                            values='datapointValue', \n",
    "                            index=['datarecordID'], \n",
    "                            columns=['datapointName'],\n",
    "                            aggfunc=lambda x: x,\n",
    "                            dropna=False)\n",
    "\n",
    "grouped_df.head()"
   ]
  },
  {
   "cell_type": "code",
   "execution_count": 10,
   "metadata": {
    "collapsed": false
   },
   "outputs": [
    {
     "data": {
      "text/plain": [
       "(43371, 3)"
      ]
     },
     "execution_count": 10,
     "metadata": {},
     "output_type": "execute_result"
    }
   ],
   "source": [
    "grouped_df.shape"
   ]
  },
  {
   "cell_type": "code",
   "execution_count": 11,
   "metadata": {
    "collapsed": false
   },
   "outputs": [
    {
     "data": {
      "text/plain": [
       "assayCompoundConcentration    43371\n",
       "concUnit                      43371\n",
       "percentControl                43371\n",
       "dtype: int64"
      ]
     },
     "execution_count": 11,
     "metadata": {},
     "output_type": "execute_result"
    }
   ],
   "source": [
    "grouped_df.count()"
   ]
  },
  {
   "cell_type": "code",
   "execution_count": 12,
   "metadata": {
    "collapsed": false
   },
   "outputs": [
    {
     "data": {
      "text/plain": [
       "(43371, 11)"
      ]
     },
     "execution_count": 12,
     "metadata": {},
     "output_type": "execute_result"
    }
   ],
   "source": [
    "# join grouped_df and grouped_df_meta on datarecordID\n",
    "grouped_df = grouped_df.merge(grouped_df_meta, left_index=True, right_index=True, how='inner')\n",
    "# export this \n",
    "grouped_df.to_csv('KINOMEscan_kinase_small_molecule_binding_assay/HMS_LINCS-KINOMEscan_kinase_small_molecule_binding_assay.csv')\n",
    "grouped_df.shape"
   ]
  },
  {
   "cell_type": "code",
   "execution_count": 13,
   "metadata": {
    "collapsed": false
   },
   "outputs": [],
   "source": [
    "## create experimentID to uniquely identify each experiment\n",
    "grouped_df['experimentID'] = grouped_df[[\n",
    "        'hmsDatasetID',        \n",
    "        'smCenterCompoundID',        \n",
    "        'assayCompoundConcentration']].apply(lambda x: '-'.join(map(str, x)), axis=1)\n"
   ]
  },
  {
   "cell_type": "code",
   "execution_count": 14,
   "metadata": {
    "collapsed": false
   },
   "outputs": [
    {
     "data": {
      "text/plain": [
       "assayCompoundConcentration    object\n",
       "concUnit                      object\n",
       "percentControl                object\n",
       "hmsDatasetID                   int64\n",
       "smCenterCompoundID             int64\n",
       "smSalt                         int64\n",
       "smCenterSampleID               int64\n",
       "smLincsID                     object\n",
       "smName                        object\n",
       "ppName                        object\n",
       "ppLincsID                      int64\n",
       "experimentID                  object\n",
       "dtype: object"
      ]
     },
     "execution_count": 14,
     "metadata": {},
     "output_type": "execute_result"
    }
   ],
   "source": [
    "# check dtypes\n",
    "grouped_df.dtypes"
   ]
  },
  {
   "cell_type": "code",
   "execution_count": 15,
   "metadata": {
    "collapsed": false
   },
   "outputs": [
    {
     "data": {
      "text/html": [
       "<div style=\"max-height:1000px;max-width:1500px;overflow:auto;\">\n",
       "<table border=\"1\" class=\"dataframe\">\n",
       "  <thead>\n",
       "    <tr style=\"text-align: right;\">\n",
       "      <th></th>\n",
       "      <th>ppName</th>\n",
       "    </tr>\n",
       "    <tr>\n",
       "      <th>ppLincsID</th>\n",
       "      <th></th>\n",
       "    </tr>\n",
       "  </thead>\n",
       "  <tbody>\n",
       "    <tr>\n",
       "      <th>200001</th>\n",
       "      <td>AAK1</td>\n",
       "    </tr>\n",
       "    <tr>\n",
       "      <th>200002</th>\n",
       "      <td>ABL1</td>\n",
       "    </tr>\n",
       "    <tr>\n",
       "      <th>200003</th>\n",
       "      <td>ABL1(E255K)</td>\n",
       "    </tr>\n",
       "    <tr>\n",
       "      <th>200004</th>\n",
       "      <td>ABL1(E255K)-phosphorylated</td>\n",
       "    </tr>\n",
       "    <tr>\n",
       "      <th>200005</th>\n",
       "      <td>ABL1(F317I)</td>\n",
       "    </tr>\n",
       "  </tbody>\n",
       "</table>\n",
       "</div>"
      ],
      "text/plain": [
       "                               ppName\n",
       "ppLincsID                            \n",
       "200001                           AAK1\n",
       "200002                           ABL1\n",
       "200003                    ABL1(E255K)\n",
       "200004     ABL1(E255K)-phosphorylated\n",
       "200005                    ABL1(F317I)"
      ]
     },
     "execution_count": 15,
     "metadata": {},
     "output_type": "execute_result"
    }
   ],
   "source": [
    "# separate row meta (kinases) and column meta (experiments)\n",
    "row_meta_df = grouped_df.reset_index()[['ppName', 'ppLincsID']].drop_duplicates().set_index('ppLincsID').sort_index()\n",
    "col_meta_df = grouped_df.reset_index()[['experimentID', 'assayCompoundConcentration', 'concUnit', \n",
    "                          'hmsDatasetID', 'smCenterCompoundID', 'smSalt',\n",
    "                         'smCenterSampleID', 'smLincsID', 'smName']].drop_duplicates().set_index('experimentID').sort_index()\n",
    "row_meta_df.head()"
   ]
  },
  {
   "cell_type": "code",
   "execution_count": 16,
   "metadata": {
    "collapsed": false
   },
   "outputs": [
    {
     "data": {
      "text/plain": [
       "(484, 1)"
      ]
     },
     "execution_count": 16,
     "metadata": {},
     "output_type": "execute_result"
    }
   ],
   "source": [
    "row_meta_df.shape"
   ]
  },
  {
   "cell_type": "code",
   "execution_count": 17,
   "metadata": {
    "collapsed": false
   },
   "outputs": [
    {
     "data": {
      "text/plain": [
       "ppName    483\n",
       "dtype: int64"
      ]
     },
     "execution_count": 17,
     "metadata": {},
     "output_type": "execute_result"
    }
   ],
   "source": [
    "row_meta_df.apply(lambda x: x.nunique())"
   ]
  },
  {
   "cell_type": "code",
   "execution_count": 18,
   "metadata": {
    "collapsed": false
   },
   "outputs": [
    {
     "data": {
      "text/plain": [
       "assayCompoundConcentration      2\n",
       "concUnit                        1\n",
       "hmsDatasetID                  102\n",
       "smCenterCompoundID            102\n",
       "smSalt                          3\n",
       "smCenterSampleID                1\n",
       "smLincsID                     102\n",
       "smName                        102\n",
       "dtype: int64"
      ]
     },
     "execution_count": 18,
     "metadata": {},
     "output_type": "execute_result"
    }
   ],
   "source": [
    "col_meta_df.apply(lambda x: x.nunique())"
   ]
  },
  {
   "cell_type": "code",
   "execution_count": 19,
   "metadata": {
    "collapsed": false
   },
   "outputs": [
    {
     "data": {
      "text/plain": [
       "(103, 8)"
      ]
     },
     "execution_count": 19,
     "metadata": {},
     "output_type": "execute_result"
    }
   ],
   "source": [
    "col_meta_df.shape"
   ]
  },
  {
   "cell_type": "code",
   "execution_count": 20,
   "metadata": {
    "collapsed": false
   },
   "outputs": [
    {
     "data": {
      "text/html": [
       "<div style=\"max-height:1000px;max-width:1500px;overflow:auto;\">\n",
       "<table border=\"1\" class=\"dataframe\">\n",
       "  <thead>\n",
       "    <tr style=\"text-align: right;\">\n",
       "      <th></th>\n",
       "      <th>assayCompoundConcentration</th>\n",
       "      <th>concUnit</th>\n",
       "      <th>hmsDatasetID</th>\n",
       "      <th>smCenterCompoundID</th>\n",
       "      <th>smSalt</th>\n",
       "      <th>smCenterSampleID</th>\n",
       "      <th>smLincsID</th>\n",
       "      <th>smName</th>\n",
       "    </tr>\n",
       "    <tr>\n",
       "      <th>experimentID</th>\n",
       "      <th></th>\n",
       "      <th></th>\n",
       "      <th></th>\n",
       "      <th></th>\n",
       "      <th></th>\n",
       "      <th></th>\n",
       "      <th></th>\n",
       "      <th></th>\n",
       "    </tr>\n",
       "  </thead>\n",
       "  <tbody>\n",
       "    <tr>\n",
       "      <th>20020-10008-10</th>\n",
       "      <td>10</td>\n",
       "      <td>uM</td>\n",
       "      <td>20020</td>\n",
       "      <td>10008</td>\n",
       "      <td>101</td>\n",
       "      <td>1</td>\n",
       "      <td>LSM-1008</td>\n",
       "      <td>Sorafenib</td>\n",
       "    </tr>\n",
       "    <tr>\n",
       "      <th>20021-10017-10</th>\n",
       "      <td>10</td>\n",
       "      <td>uM</td>\n",
       "      <td>20021</td>\n",
       "      <td>10017</td>\n",
       "      <td>101</td>\n",
       "      <td>1</td>\n",
       "      <td>LSM-6015</td>\n",
       "      <td>HG-6-64-01</td>\n",
       "    </tr>\n",
       "    <tr>\n",
       "      <th>20022-10029-10</th>\n",
       "      <td>10</td>\n",
       "      <td>uM</td>\n",
       "      <td>20022</td>\n",
       "      <td>10029</td>\n",
       "      <td>101</td>\n",
       "      <td>1</td>\n",
       "      <td>LSM-1029</td>\n",
       "      <td>GW-5074</td>\n",
       "    </tr>\n",
       "    <tr>\n",
       "      <th>20023-10046-10</th>\n",
       "      <td>10</td>\n",
       "      <td>uM</td>\n",
       "      <td>20023</td>\n",
       "      <td>10046</td>\n",
       "      <td>101</td>\n",
       "      <td>1</td>\n",
       "      <td>LSM-1046</td>\n",
       "      <td>SB590885</td>\n",
       "    </tr>\n",
       "    <tr>\n",
       "      <th>20024-10049-10</th>\n",
       "      <td>10</td>\n",
       "      <td>uM</td>\n",
       "      <td>20024</td>\n",
       "      <td>10049</td>\n",
       "      <td>101</td>\n",
       "      <td>1</td>\n",
       "      <td>LSM-1049</td>\n",
       "      <td>PLX-4720</td>\n",
       "    </tr>\n",
       "  </tbody>\n",
       "</table>\n",
       "</div>"
      ],
      "text/plain": [
       "               assayCompoundConcentration concUnit  hmsDatasetID  \\\n",
       "experimentID                                                       \n",
       "20020-10008-10                         10       uM         20020   \n",
       "20021-10017-10                         10       uM         20021   \n",
       "20022-10029-10                         10       uM         20022   \n",
       "20023-10046-10                         10       uM         20023   \n",
       "20024-10049-10                         10       uM         20024   \n",
       "\n",
       "                smCenterCompoundID  smSalt  smCenterSampleID smLincsID  \\\n",
       "experimentID                                                             \n",
       "20020-10008-10               10008     101                 1  LSM-1008   \n",
       "20021-10017-10               10017     101                 1  LSM-6015   \n",
       "20022-10029-10               10029     101                 1  LSM-1029   \n",
       "20023-10046-10               10046     101                 1  LSM-1046   \n",
       "20024-10049-10               10049     101                 1  LSM-1049   \n",
       "\n",
       "                    smName  \n",
       "experimentID                \n",
       "20020-10008-10   Sorafenib  \n",
       "20021-10017-10  HG-6-64-01  \n",
       "20022-10029-10     GW-5074  \n",
       "20023-10046-10    SB590885  \n",
       "20024-10049-10    PLX-4720  "
      ]
     },
     "execution_count": 20,
     "metadata": {},
     "output_type": "execute_result"
    }
   ],
   "source": [
    "col_meta_df.head()"
   ]
  },
  {
   "cell_type": "code",
   "execution_count": 21,
   "metadata": {
    "collapsed": false
   },
   "outputs": [
    {
     "data": {
      "text/html": [
       "<div style=\"max-height:1000px;max-width:1500px;overflow:auto;\">\n",
       "<table border=\"1\" class=\"dataframe\">\n",
       "  <thead>\n",
       "    <tr style=\"text-align: right;\">\n",
       "      <th></th>\n",
       "      <th>20020-10008-10</th>\n",
       "      <th>20021-10017-10</th>\n",
       "      <th>20022-10029-10</th>\n",
       "      <th>20023-10046-10</th>\n",
       "      <th>20024-10049-10</th>\n",
       "      <th>20025-10050-10</th>\n",
       "      <th>20026-10068-10</th>\n",
       "      <th>20027-10006-10</th>\n",
       "      <th>20028-10009-10</th>\n",
       "      <th>20029-10010-10</th>\n",
       "      <th>...</th>\n",
       "      <th>20211-10356-1</th>\n",
       "      <th>20211-10356-10</th>\n",
       "      <th>20220-10053-1</th>\n",
       "      <th>20221-10105-1</th>\n",
       "      <th>20222-10129-1</th>\n",
       "      <th>20223-10171-1</th>\n",
       "      <th>20224-10183-1</th>\n",
       "      <th>20225-10212-1</th>\n",
       "      <th>20227-10354-10</th>\n",
       "      <th>20228-10364-10</th>\n",
       "    </tr>\n",
       "    <tr>\n",
       "      <th>ppLincsID</th>\n",
       "      <th></th>\n",
       "      <th></th>\n",
       "      <th></th>\n",
       "      <th></th>\n",
       "      <th></th>\n",
       "      <th></th>\n",
       "      <th></th>\n",
       "      <th></th>\n",
       "      <th></th>\n",
       "      <th></th>\n",
       "      <th></th>\n",
       "      <th></th>\n",
       "      <th></th>\n",
       "      <th></th>\n",
       "      <th></th>\n",
       "      <th></th>\n",
       "      <th></th>\n",
       "      <th></th>\n",
       "      <th></th>\n",
       "      <th></th>\n",
       "      <th></th>\n",
       "    </tr>\n",
       "  </thead>\n",
       "  <tbody>\n",
       "    <tr>\n",
       "      <th>200001</th>\n",
       "      <td>100</td>\n",
       "      <td>26</td>\n",
       "      <td>5.2</td>\n",
       "      <td>76</td>\n",
       "      <td>84</td>\n",
       "      <td>100</td>\n",
       "      <td>100</td>\n",
       "      <td>1.3</td>\n",
       "      <td>6.9</td>\n",
       "      <td>100</td>\n",
       "      <td>...</td>\n",
       "      <td>61</td>\n",
       "      <td>13</td>\n",
       "      <td>100</td>\n",
       "      <td>100</td>\n",
       "      <td>92</td>\n",
       "      <td>100</td>\n",
       "      <td>76</td>\n",
       "      <td>100</td>\n",
       "      <td>7.6</td>\n",
       "      <td>3.4</td>\n",
       "    </tr>\n",
       "    <tr>\n",
       "      <th>200002</th>\n",
       "      <td>NaN</td>\n",
       "      <td>NaN</td>\n",
       "      <td>NaN</td>\n",
       "      <td>NaN</td>\n",
       "      <td>NaN</td>\n",
       "      <td>NaN</td>\n",
       "      <td>NaN</td>\n",
       "      <td>NaN</td>\n",
       "      <td>NaN</td>\n",
       "      <td>NaN</td>\n",
       "      <td>...</td>\n",
       "      <td>NaN</td>\n",
       "      <td>NaN</td>\n",
       "      <td>100</td>\n",
       "      <td>100</td>\n",
       "      <td>NaN</td>\n",
       "      <td>100</td>\n",
       "      <td>NaN</td>\n",
       "      <td>100</td>\n",
       "      <td>NaN</td>\n",
       "      <td>NaN</td>\n",
       "    </tr>\n",
       "    <tr>\n",
       "      <th>200003</th>\n",
       "      <td>NaN</td>\n",
       "      <td>NaN</td>\n",
       "      <td>NaN</td>\n",
       "      <td>NaN</td>\n",
       "      <td>NaN</td>\n",
       "      <td>NaN</td>\n",
       "      <td>NaN</td>\n",
       "      <td>NaN</td>\n",
       "      <td>NaN</td>\n",
       "      <td>NaN</td>\n",
       "      <td>...</td>\n",
       "      <td>NaN</td>\n",
       "      <td>NaN</td>\n",
       "      <td>100</td>\n",
       "      <td>100</td>\n",
       "      <td>NaN</td>\n",
       "      <td>100</td>\n",
       "      <td>NaN</td>\n",
       "      <td>100</td>\n",
       "      <td>NaN</td>\n",
       "      <td>NaN</td>\n",
       "    </tr>\n",
       "    <tr>\n",
       "      <th>200004</th>\n",
       "      <td>47</td>\n",
       "      <td>1</td>\n",
       "      <td>54</td>\n",
       "      <td>8.6</td>\n",
       "      <td>46</td>\n",
       "      <td>3.4</td>\n",
       "      <td>58</td>\n",
       "      <td>0</td>\n",
       "      <td>0.4</td>\n",
       "      <td>95</td>\n",
       "      <td>...</td>\n",
       "      <td>81</td>\n",
       "      <td>85</td>\n",
       "      <td>NaN</td>\n",
       "      <td>NaN</td>\n",
       "      <td>65</td>\n",
       "      <td>NaN</td>\n",
       "      <td>67</td>\n",
       "      <td>NaN</td>\n",
       "      <td>6</td>\n",
       "      <td>19</td>\n",
       "    </tr>\n",
       "    <tr>\n",
       "      <th>200005</th>\n",
       "      <td>NaN</td>\n",
       "      <td>NaN</td>\n",
       "      <td>NaN</td>\n",
       "      <td>NaN</td>\n",
       "      <td>NaN</td>\n",
       "      <td>NaN</td>\n",
       "      <td>NaN</td>\n",
       "      <td>NaN</td>\n",
       "      <td>NaN</td>\n",
       "      <td>NaN</td>\n",
       "      <td>...</td>\n",
       "      <td>NaN</td>\n",
       "      <td>NaN</td>\n",
       "      <td>100</td>\n",
       "      <td>100</td>\n",
       "      <td>NaN</td>\n",
       "      <td>100</td>\n",
       "      <td>NaN</td>\n",
       "      <td>100</td>\n",
       "      <td>NaN</td>\n",
       "      <td>NaN</td>\n",
       "    </tr>\n",
       "  </tbody>\n",
       "</table>\n",
       "<p>5 rows × 103 columns</p>\n",
       "</div>"
      ],
      "text/plain": [
       "          20020-10008-10 20021-10017-10 20022-10029-10 20023-10046-10  \\\n",
       "ppLincsID                                                               \n",
       "200001               100             26            5.2             76   \n",
       "200002               NaN            NaN            NaN            NaN   \n",
       "200003               NaN            NaN            NaN            NaN   \n",
       "200004                47              1             54            8.6   \n",
       "200005               NaN            NaN            NaN            NaN   \n",
       "\n",
       "          20024-10049-10 20025-10050-10 20026-10068-10 20027-10006-10  \\\n",
       "ppLincsID                                                               \n",
       "200001                84            100            100            1.3   \n",
       "200002               NaN            NaN            NaN            NaN   \n",
       "200003               NaN            NaN            NaN            NaN   \n",
       "200004                46            3.4             58              0   \n",
       "200005               NaN            NaN            NaN            NaN   \n",
       "\n",
       "          20028-10009-10 20029-10010-10      ...       20211-10356-1  \\\n",
       "ppLincsID                                    ...                       \n",
       "200001               6.9            100      ...                  61   \n",
       "200002               NaN            NaN      ...                 NaN   \n",
       "200003               NaN            NaN      ...                 NaN   \n",
       "200004               0.4             95      ...                  81   \n",
       "200005               NaN            NaN      ...                 NaN   \n",
       "\n",
       "          20211-10356-10 20220-10053-1 20221-10105-1 20222-10129-1  \\\n",
       "ppLincsID                                                            \n",
       "200001                13           100           100            92   \n",
       "200002               NaN           100           100           NaN   \n",
       "200003               NaN           100           100           NaN   \n",
       "200004                85           NaN           NaN            65   \n",
       "200005               NaN           100           100           NaN   \n",
       "\n",
       "          20223-10171-1 20224-10183-1 20225-10212-1 20227-10354-10  \\\n",
       "ppLincsID                                                            \n",
       "200001              100            76           100            7.6   \n",
       "200002              100           NaN           100            NaN   \n",
       "200003              100           NaN           100            NaN   \n",
       "200004              NaN            67           NaN              6   \n",
       "200005              100           NaN           100            NaN   \n",
       "\n",
       "          20228-10364-10  \n",
       "ppLincsID                 \n",
       "200001               3.4  \n",
       "200002               NaN  \n",
       "200003               NaN  \n",
       "200004                19  \n",
       "200005               NaN  \n",
       "\n",
       "[5 rows x 103 columns]"
      ]
     },
     "execution_count": 21,
     "metadata": {},
     "output_type": "execute_result"
    }
   ],
   "source": [
    "# pivot_table to make a matrix of percentInhibition\n",
    "value_matrix = pd.pivot_table(grouped_df.reset_index()[['percentControl', 'ppLincsID', 'experimentID']].drop_duplicates(),\n",
    "                            values='percentControl', \n",
    "                            columns='experimentID',\n",
    "                            index='ppLincsID', \n",
    "                            aggfunc=lambda x: x,\n",
    "                            dropna=False)\n",
    "\n",
    "value_matrix.head()"
   ]
  },
  {
   "cell_type": "code",
   "execution_count": 22,
   "metadata": {
    "collapsed": false
   },
   "outputs": [
    {
     "data": {
      "text/plain": [
       "(484, 103)"
      ]
     },
     "execution_count": 22,
     "metadata": {},
     "output_type": "execute_result"
    }
   ],
   "source": [
    "value_matrix.shape"
   ]
  },
  {
   "cell_type": "code",
   "execution_count": 23,
   "metadata": {
    "collapsed": false
   },
   "outputs": [
    {
     "data": {
      "text/plain": [
       "43371"
      ]
     },
     "execution_count": 23,
     "metadata": {},
     "output_type": "execute_result"
    }
   ],
   "source": [
    "grouped_df['percentControl'].count()"
   ]
  },
  {
   "cell_type": "code",
   "execution_count": 24,
   "metadata": {
    "collapsed": false
   },
   "outputs": [
    {
     "data": {
      "text/plain": [
       "43370"
      ]
     },
     "execution_count": 24,
     "metadata": {},
     "output_type": "execute_result"
    }
   ],
   "source": [
    "value_matrix.count().sum()"
   ]
  },
  {
   "cell_type": "code",
   "execution_count": 25,
   "metadata": {
    "collapsed": true
   },
   "outputs": [],
   "source": [
    "## make gct object\n",
    "sys.path.append('/Users/zichen/Documents/GitHub/l1ktools/python')\n",
    "import cmap.io.gct as gct\n",
    "g = gct.GCT()\n",
    "print value_matrix.shape\n",
    "print row_meta_df.shape\n",
    "print col_meta_df.shape\n",
    "g.build_from_DataFrame(value_matrix, rdesc=row_meta_df, cdesc=col_meta_df)\n"
   ]
  },
  {
   "cell_type": "code",
   "execution_count": 26,
   "metadata": {
    "collapsed": true
   },
   "outputs": [],
   "source": [
    "## export to gct and gctx\n",
    "g.write('KINOMEscan_kinase_small_molecule_binding_assay/HMS_LINCS-KINOMEscan_kinase_small_molecule_binding_assay'\n",
    "        , mode='gct')"
   ]
  }
 ],
 "metadata": {
  "kernelspec": {
   "display_name": "Python 2",
   "language": "python",
   "name": "python2"
  },
  "language_info": {
   "codemirror_mode": {
    "name": "ipython",
    "version": 2
   },
   "file_extension": ".py",
   "mimetype": "text/x-python",
   "name": "python",
   "nbconvert_exporter": "python",
   "pygments_lexer": "ipython2",
   "version": "2.7.6"
  }
 },
 "nbformat": 4,
 "nbformat_minor": 0
}
